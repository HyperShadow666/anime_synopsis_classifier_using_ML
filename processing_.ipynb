{
  "cells": [
    {
      "cell_type": "markdown",
      "metadata": {
        "id": "7nAmsj2v11E7"
      },
      "source": [
        "### Loading the DataSet"
      ]
    },
    {
      "cell_type": "code",
      "execution_count": 4,
      "metadata": {
        "id": "qyFZdeLp11FB"
      },
      "outputs": [],
      "source": [
        "import pandas as pd\n",
        "import numpy as np\n",
        "import spacy"
      ]
    },
    {
      "cell_type": "code",
      "execution_count": 5,
      "metadata": {
        "id": "Q61OfCy611FE"
      },
      "outputs": [],
      "source": [
        "animes = pd.read_csv(\"./data/animes.csv\")"
      ]
    },
    {
      "cell_type": "code",
      "execution_count": 6,
      "metadata": {
        "colab": {
          "base_uri": "https://localhost:8080/",
          "height": 1000
        },
        "id": "ctwOrecf11FE",
        "outputId": "5e14505a-33e3-48fa-b4a7-b9930c87a27b"
      },
      "outputs": [
        {
          "data": {
            "text/html": [
              "<div>\n",
              "<style scoped>\n",
              "    .dataframe tbody tr th:only-of-type {\n",
              "        vertical-align: middle;\n",
              "    }\n",
              "\n",
              "    .dataframe tbody tr th {\n",
              "        vertical-align: top;\n",
              "    }\n",
              "\n",
              "    .dataframe thead th {\n",
              "        text-align: right;\n",
              "    }\n",
              "</style>\n",
              "<table border=\"1\" class=\"dataframe\">\n",
              "  <thead>\n",
              "    <tr style=\"text-align: right;\">\n",
              "      <th></th>\n",
              "      <th>uid</th>\n",
              "      <th>title</th>\n",
              "      <th>synopsis</th>\n",
              "      <th>genre</th>\n",
              "      <th>aired</th>\n",
              "      <th>episodes</th>\n",
              "      <th>members</th>\n",
              "      <th>popularity</th>\n",
              "      <th>ranked</th>\n",
              "      <th>score</th>\n",
              "      <th>img_url</th>\n",
              "      <th>link</th>\n",
              "    </tr>\n",
              "  </thead>\n",
              "  <tbody>\n",
              "    <tr>\n",
              "      <th>0</th>\n",
              "      <td>28891</td>\n",
              "      <td>Haikyuu!! Second Season</td>\n",
              "      <td>Following their participation at the Inter-Hig...</td>\n",
              "      <td>['Comedy', 'Sports', 'Drama', 'School', 'Shoun...</td>\n",
              "      <td>Oct 4, 2015 to Mar 27, 2016</td>\n",
              "      <td>25.0</td>\n",
              "      <td>489888</td>\n",
              "      <td>141</td>\n",
              "      <td>25.0</td>\n",
              "      <td>8.82</td>\n",
              "      <td>https://cdn.myanimelist.net/images/anime/9/766...</td>\n",
              "      <td>https://myanimelist.net/anime/28891/Haikyuu_Se...</td>\n",
              "    </tr>\n",
              "    <tr>\n",
              "      <th>1</th>\n",
              "      <td>23273</td>\n",
              "      <td>Shigatsu wa Kimi no Uso</td>\n",
              "      <td>Music accompanies the path of the human metron...</td>\n",
              "      <td>['Drama', 'Music', 'Romance', 'School', 'Shoun...</td>\n",
              "      <td>Oct 10, 2014 to Mar 20, 2015</td>\n",
              "      <td>22.0</td>\n",
              "      <td>995473</td>\n",
              "      <td>28</td>\n",
              "      <td>24.0</td>\n",
              "      <td>8.83</td>\n",
              "      <td>https://cdn.myanimelist.net/images/anime/3/671...</td>\n",
              "      <td>https://myanimelist.net/anime/23273/Shigatsu_w...</td>\n",
              "    </tr>\n",
              "    <tr>\n",
              "      <th>2</th>\n",
              "      <td>34599</td>\n",
              "      <td>Made in Abyss</td>\n",
              "      <td>The Abyss—a gaping chasm stretching down into ...</td>\n",
              "      <td>['Sci-Fi', 'Adventure', 'Mystery', 'Drama', 'F...</td>\n",
              "      <td>Jul 7, 2017 to Sep 29, 2017</td>\n",
              "      <td>13.0</td>\n",
              "      <td>581663</td>\n",
              "      <td>98</td>\n",
              "      <td>23.0</td>\n",
              "      <td>8.83</td>\n",
              "      <td>https://cdn.myanimelist.net/images/anime/6/867...</td>\n",
              "      <td>https://myanimelist.net/anime/34599/Made_in_Abyss</td>\n",
              "    </tr>\n",
              "    <tr>\n",
              "      <th>3</th>\n",
              "      <td>5114</td>\n",
              "      <td>Fullmetal Alchemist: Brotherhood</td>\n",
              "      <td>\"In order for something to be obtained, someth...</td>\n",
              "      <td>['Action', 'Military', 'Adventure', 'Comedy', ...</td>\n",
              "      <td>Apr 5, 2009 to Jul 4, 2010</td>\n",
              "      <td>64.0</td>\n",
              "      <td>1615084</td>\n",
              "      <td>4</td>\n",
              "      <td>1.0</td>\n",
              "      <td>9.23</td>\n",
              "      <td>https://cdn.myanimelist.net/images/anime/1223/...</td>\n",
              "      <td>https://myanimelist.net/anime/5114/Fullmetal_A...</td>\n",
              "    </tr>\n",
              "    <tr>\n",
              "      <th>4</th>\n",
              "      <td>31758</td>\n",
              "      <td>Kizumonogatari III: Reiketsu-hen</td>\n",
              "      <td>After helping revive the legendary vampire Kis...</td>\n",
              "      <td>['Action', 'Mystery', 'Supernatural', 'Vampire']</td>\n",
              "      <td>Jan 6, 2017</td>\n",
              "      <td>1.0</td>\n",
              "      <td>214621</td>\n",
              "      <td>502</td>\n",
              "      <td>22.0</td>\n",
              "      <td>8.83</td>\n",
              "      <td>https://cdn.myanimelist.net/images/anime/3/815...</td>\n",
              "      <td>https://myanimelist.net/anime/31758/Kizumonoga...</td>\n",
              "    </tr>\n",
              "    <tr>\n",
              "      <th>...</th>\n",
              "      <td>...</td>\n",
              "      <td>...</td>\n",
              "      <td>...</td>\n",
              "      <td>...</td>\n",
              "      <td>...</td>\n",
              "      <td>...</td>\n",
              "      <td>...</td>\n",
              "      <td>...</td>\n",
              "      <td>...</td>\n",
              "      <td>...</td>\n",
              "      <td>...</td>\n",
              "      <td>...</td>\n",
              "    </tr>\n",
              "    <tr>\n",
              "      <th>19306</th>\n",
              "      <td>32979</td>\n",
              "      <td>Flip Flappers</td>\n",
              "      <td>Cocona is an average middle schooler living wi...</td>\n",
              "      <td>['Sci-Fi', 'Adventure', 'Comedy', 'Magic']</td>\n",
              "      <td>Oct 6, 2016 to Dec 29, 2016</td>\n",
              "      <td>13.0</td>\n",
              "      <td>134252</td>\n",
              "      <td>843</td>\n",
              "      <td>1070.0</td>\n",
              "      <td>7.73</td>\n",
              "      <td>https://cdn.myanimelist.net/images/anime/4/822...</td>\n",
              "      <td>https://myanimelist.net/anime/32979/Flip_Flappers</td>\n",
              "    </tr>\n",
              "    <tr>\n",
              "      <th>19307</th>\n",
              "      <td>123</td>\n",
              "      <td>Fushigi Yuugi</td>\n",
              "      <td>While visiting the National Library, junior-hi...</td>\n",
              "      <td>['Adventure', 'Fantasy', 'Magic', 'Martial Art...</td>\n",
              "      <td>Apr 6, 1995 to Mar 28, 1996</td>\n",
              "      <td>52.0</td>\n",
              "      <td>84407</td>\n",
              "      <td>1292</td>\n",
              "      <td>1071.0</td>\n",
              "      <td>7.73</td>\n",
              "      <td>https://cdn.myanimelist.net/images/anime/2/201...</td>\n",
              "      <td>https://myanimelist.net/anime/123/Fushigi_Yuugi</td>\n",
              "    </tr>\n",
              "    <tr>\n",
              "      <th>19308</th>\n",
              "      <td>1281</td>\n",
              "      <td>Gakkou no Kaidan</td>\n",
              "      <td>Years ago, all of the ghosts in a haunted scho...</td>\n",
              "      <td>['Mystery', 'Horror', 'Supernatural']</td>\n",
              "      <td>Oct 22, 2000 to Mar 25, 2001</td>\n",
              "      <td>19.0</td>\n",
              "      <td>83093</td>\n",
              "      <td>1314</td>\n",
              "      <td>1073.0</td>\n",
              "      <td>7.73</td>\n",
              "      <td>https://cdn.myanimelist.net/images/anime/9/183...</td>\n",
              "      <td>https://myanimelist.net/anime/1281/Gakkou_no_K...</td>\n",
              "    </tr>\n",
              "    <tr>\n",
              "      <th>19309</th>\n",
              "      <td>450</td>\n",
              "      <td>InuYasha Movie 2: Kagami no Naka no Mugenjo</td>\n",
              "      <td>Inuyasha and company have finally destroyed Na...</td>\n",
              "      <td>['Action', 'Adventure', 'Comedy', 'Historical'...</td>\n",
              "      <td>Dec 21, 2002</td>\n",
              "      <td>1.0</td>\n",
              "      <td>71989</td>\n",
              "      <td>1469</td>\n",
              "      <td>1077.0</td>\n",
              "      <td>7.73</td>\n",
              "      <td>https://cdn.myanimelist.net/images/anime/1162/...</td>\n",
              "      <td>https://myanimelist.net/anime/450/InuYasha_Mov...</td>\n",
              "    </tr>\n",
              "    <tr>\n",
              "      <th>19310</th>\n",
              "      <td>87</td>\n",
              "      <td>Mobile Suit Gundam: Char's Counterattack</td>\n",
              "      <td>The year is Universal Century 0093. Char Aznab...</td>\n",
              "      <td>['Military', 'Sci-Fi', 'Space', 'Drama', 'Mecha']</td>\n",
              "      <td>Mar 12, 1988</td>\n",
              "      <td>1.0</td>\n",
              "      <td>29248</td>\n",
              "      <td>2604</td>\n",
              "      <td>1081.0</td>\n",
              "      <td>7.73</td>\n",
              "      <td>https://cdn.myanimelist.net/images/anime/1523/...</td>\n",
              "      <td>https://myanimelist.net/anime/87/Mobile_Suit_G...</td>\n",
              "    </tr>\n",
              "  </tbody>\n",
              "</table>\n",
              "<p>19311 rows × 12 columns</p>\n",
              "</div>"
            ],
            "text/plain": [
              "         uid                                        title  \\\n",
              "0      28891                      Haikyuu!! Second Season   \n",
              "1      23273                      Shigatsu wa Kimi no Uso   \n",
              "2      34599                                Made in Abyss   \n",
              "3       5114             Fullmetal Alchemist: Brotherhood   \n",
              "4      31758             Kizumonogatari III: Reiketsu-hen   \n",
              "...      ...                                          ...   \n",
              "19306  32979                                Flip Flappers   \n",
              "19307    123                                Fushigi Yuugi   \n",
              "19308   1281                             Gakkou no Kaidan   \n",
              "19309    450  InuYasha Movie 2: Kagami no Naka no Mugenjo   \n",
              "19310     87     Mobile Suit Gundam: Char's Counterattack   \n",
              "\n",
              "                                                synopsis  \\\n",
              "0      Following their participation at the Inter-Hig...   \n",
              "1      Music accompanies the path of the human metron...   \n",
              "2      The Abyss—a gaping chasm stretching down into ...   \n",
              "3      \"In order for something to be obtained, someth...   \n",
              "4      After helping revive the legendary vampire Kis...   \n",
              "...                                                  ...   \n",
              "19306  Cocona is an average middle schooler living wi...   \n",
              "19307  While visiting the National Library, junior-hi...   \n",
              "19308  Years ago, all of the ghosts in a haunted scho...   \n",
              "19309  Inuyasha and company have finally destroyed Na...   \n",
              "19310  The year is Universal Century 0093. Char Aznab...   \n",
              "\n",
              "                                                   genre  \\\n",
              "0      ['Comedy', 'Sports', 'Drama', 'School', 'Shoun...   \n",
              "1      ['Drama', 'Music', 'Romance', 'School', 'Shoun...   \n",
              "2      ['Sci-Fi', 'Adventure', 'Mystery', 'Drama', 'F...   \n",
              "3      ['Action', 'Military', 'Adventure', 'Comedy', ...   \n",
              "4       ['Action', 'Mystery', 'Supernatural', 'Vampire']   \n",
              "...                                                  ...   \n",
              "19306         ['Sci-Fi', 'Adventure', 'Comedy', 'Magic']   \n",
              "19307  ['Adventure', 'Fantasy', 'Magic', 'Martial Art...   \n",
              "19308              ['Mystery', 'Horror', 'Supernatural']   \n",
              "19309  ['Action', 'Adventure', 'Comedy', 'Historical'...   \n",
              "19310  ['Military', 'Sci-Fi', 'Space', 'Drama', 'Mecha']   \n",
              "\n",
              "                              aired  episodes  members  popularity  ranked  \\\n",
              "0       Oct 4, 2015 to Mar 27, 2016      25.0   489888         141    25.0   \n",
              "1      Oct 10, 2014 to Mar 20, 2015      22.0   995473          28    24.0   \n",
              "2       Jul 7, 2017 to Sep 29, 2017      13.0   581663          98    23.0   \n",
              "3        Apr 5, 2009 to Jul 4, 2010      64.0  1615084           4     1.0   \n",
              "4                       Jan 6, 2017       1.0   214621         502    22.0   \n",
              "...                             ...       ...      ...         ...     ...   \n",
              "19306   Oct 6, 2016 to Dec 29, 2016      13.0   134252         843  1070.0   \n",
              "19307   Apr 6, 1995 to Mar 28, 1996      52.0    84407        1292  1071.0   \n",
              "19308  Oct 22, 2000 to Mar 25, 2001      19.0    83093        1314  1073.0   \n",
              "19309                  Dec 21, 2002       1.0    71989        1469  1077.0   \n",
              "19310                  Mar 12, 1988       1.0    29248        2604  1081.0   \n",
              "\n",
              "       score                                            img_url  \\\n",
              "0       8.82  https://cdn.myanimelist.net/images/anime/9/766...   \n",
              "1       8.83  https://cdn.myanimelist.net/images/anime/3/671...   \n",
              "2       8.83  https://cdn.myanimelist.net/images/anime/6/867...   \n",
              "3       9.23  https://cdn.myanimelist.net/images/anime/1223/...   \n",
              "4       8.83  https://cdn.myanimelist.net/images/anime/3/815...   \n",
              "...      ...                                                ...   \n",
              "19306   7.73  https://cdn.myanimelist.net/images/anime/4/822...   \n",
              "19307   7.73  https://cdn.myanimelist.net/images/anime/2/201...   \n",
              "19308   7.73  https://cdn.myanimelist.net/images/anime/9/183...   \n",
              "19309   7.73  https://cdn.myanimelist.net/images/anime/1162/...   \n",
              "19310   7.73  https://cdn.myanimelist.net/images/anime/1523/...   \n",
              "\n",
              "                                                    link  \n",
              "0      https://myanimelist.net/anime/28891/Haikyuu_Se...  \n",
              "1      https://myanimelist.net/anime/23273/Shigatsu_w...  \n",
              "2      https://myanimelist.net/anime/34599/Made_in_Abyss  \n",
              "3      https://myanimelist.net/anime/5114/Fullmetal_A...  \n",
              "4      https://myanimelist.net/anime/31758/Kizumonoga...  \n",
              "...                                                  ...  \n",
              "19306  https://myanimelist.net/anime/32979/Flip_Flappers  \n",
              "19307    https://myanimelist.net/anime/123/Fushigi_Yuugi  \n",
              "19308  https://myanimelist.net/anime/1281/Gakkou_no_K...  \n",
              "19309  https://myanimelist.net/anime/450/InuYasha_Mov...  \n",
              "19310  https://myanimelist.net/anime/87/Mobile_Suit_G...  \n",
              "\n",
              "[19311 rows x 12 columns]"
            ]
          },
          "execution_count": 6,
          "metadata": {},
          "output_type": "execute_result"
        }
      ],
      "source": [
        "animes"
      ]
    },
    {
      "cell_type": "code",
      "execution_count": 7,
      "metadata": {
        "colab": {
          "base_uri": "https://localhost:8080/",
          "height": 1000
        },
        "id": "ZOSnXwCw11FG",
        "outputId": "7cbc69c2-1081-40b9-c7a7-9e8275e5a67f"
      },
      "outputs": [
        {
          "data": {
            "text/html": [
              "<div>\n",
              "<style scoped>\n",
              "    .dataframe tbody tr th:only-of-type {\n",
              "        vertical-align: middle;\n",
              "    }\n",
              "\n",
              "    .dataframe tbody tr th {\n",
              "        vertical-align: top;\n",
              "    }\n",
              "\n",
              "    .dataframe thead th {\n",
              "        text-align: right;\n",
              "    }\n",
              "</style>\n",
              "<table border=\"1\" class=\"dataframe\">\n",
              "  <thead>\n",
              "    <tr style=\"text-align: right;\">\n",
              "      <th></th>\n",
              "      <th>uid</th>\n",
              "      <th>title</th>\n",
              "      <th>synopsis</th>\n",
              "      <th>genre</th>\n",
              "      <th>aired</th>\n",
              "      <th>episodes</th>\n",
              "      <th>members</th>\n",
              "      <th>popularity</th>\n",
              "      <th>ranked</th>\n",
              "      <th>score</th>\n",
              "      <th>img_url</th>\n",
              "      <th>link</th>\n",
              "    </tr>\n",
              "  </thead>\n",
              "  <tbody>\n",
              "    <tr>\n",
              "      <th>29</th>\n",
              "      <td>9563</td>\n",
              "      <td>Hidamari Sketch x ☆☆☆ Specials</td>\n",
              "      <td>NaN</td>\n",
              "      <td>['Slice of Life', 'Comedy', 'School', 'Seinen']</td>\n",
              "      <td>Oct 23, 2010 to Oct 30, 2010</td>\n",
              "      <td>2.0</td>\n",
              "      <td>11600</td>\n",
              "      <td>4073</td>\n",
              "      <td>790.0</td>\n",
              "      <td>7.86</td>\n",
              "      <td>https://cdn.myanimelist.net/images/anime/3/264...</td>\n",
              "      <td>https://myanimelist.net/anime/9563/Hidamari_Sk...</td>\n",
              "    </tr>\n",
              "    <tr>\n",
              "      <th>31</th>\n",
              "      <td>33280</td>\n",
              "      <td>Gochuumon wa Usagi Desu ka??: Dear My Sister</td>\n",
              "      <td>NaN</td>\n",
              "      <td>['Slice of Life', 'Comedy']</td>\n",
              "      <td>Nov 11, 2017</td>\n",
              "      <td>1.0</td>\n",
              "      <td>20779</td>\n",
              "      <td>3141</td>\n",
              "      <td>788.0</td>\n",
              "      <td>7.86</td>\n",
              "      <td>https://cdn.myanimelist.net/images/anime/1223/...</td>\n",
              "      <td>https://myanimelist.net/anime/33280/Gochuumon_...</td>\n",
              "    </tr>\n",
              "    <tr>\n",
              "      <th>42</th>\n",
              "      <td>36160</td>\n",
              "      <td>Yaoguai Mingdan 2nd Season</td>\n",
              "      <td>NaN</td>\n",
              "      <td>['Action', 'Comedy', 'Romance', 'Fantasy']</td>\n",
              "      <td>Aug 2, 2017 to Dec 29, 2017</td>\n",
              "      <td>21.0</td>\n",
              "      <td>5238</td>\n",
              "      <td>5659</td>\n",
              "      <td>777.0</td>\n",
              "      <td>7.87</td>\n",
              "      <td>https://cdn.myanimelist.net/images/anime/4/874...</td>\n",
              "      <td>https://myanimelist.net/anime/36160/Yaoguai_Mi...</td>\n",
              "    </tr>\n",
              "    <tr>\n",
              "      <th>212</th>\n",
              "      <td>36370</td>\n",
              "      <td>Ginga Eiyuu Densetsu: Die Neue These - Seiran 2</td>\n",
              "      <td>NaN</td>\n",
              "      <td>['Action', 'Drama', 'Military', 'Sci-Fi', 'Spa...</td>\n",
              "      <td>Oct 25, 2019</td>\n",
              "      <td>4.0</td>\n",
              "      <td>8711</td>\n",
              "      <td>4598</td>\n",
              "      <td>598.0</td>\n",
              "      <td>8.00</td>\n",
              "      <td>https://cdn.myanimelist.net/images/anime/1215/...</td>\n",
              "      <td>https://myanimelist.net/anime/36370/Ginga_Eiyu...</td>\n",
              "    </tr>\n",
              "    <tr>\n",
              "      <th>216</th>\n",
              "      <td>39565</td>\n",
              "      <td>Boku no Hero Academia the Movie 2: Heroes:Rising</td>\n",
              "      <td>NaN</td>\n",
              "      <td>['Action', 'Comedy', 'Super Power', 'School', ...</td>\n",
              "      <td>Dec 20, 2019</td>\n",
              "      <td>1.0</td>\n",
              "      <td>75929</td>\n",
              "      <td>1408</td>\n",
              "      <td>594.0</td>\n",
              "      <td>7.97</td>\n",
              "      <td>https://cdn.myanimelist.net/images/anime/1019/...</td>\n",
              "      <td>https://myanimelist.net/anime/39565/Boku_no_He...</td>\n",
              "    </tr>\n",
              "    <tr>\n",
              "      <th>...</th>\n",
              "      <td>...</td>\n",
              "      <td>...</td>\n",
              "      <td>...</td>\n",
              "      <td>...</td>\n",
              "      <td>...</td>\n",
              "      <td>...</td>\n",
              "      <td>...</td>\n",
              "      <td>...</td>\n",
              "      <td>...</td>\n",
              "      <td>...</td>\n",
              "      <td>...</td>\n",
              "      <td>...</td>\n",
              "    </tr>\n",
              "    <tr>\n",
              "      <th>19075</th>\n",
              "      <td>38262</td>\n",
              "      <td>Pingu in the City (2018)</td>\n",
              "      <td>NaN</td>\n",
              "      <td>['Slice of Life', 'Comedy', 'Kids']</td>\n",
              "      <td>Oct 6, 2018 to Mar 30, 2019</td>\n",
              "      <td>26.0</td>\n",
              "      <td>7507</td>\n",
              "      <td>4883</td>\n",
              "      <td>882.0</td>\n",
              "      <td>7.82</td>\n",
              "      <td>https://cdn.myanimelist.net/images/anime/1315/...</td>\n",
              "      <td>https://myanimelist.net/anime/38262/Pingu_in_t...</td>\n",
              "    </tr>\n",
              "    <tr>\n",
              "      <th>19157</th>\n",
              "      <td>39741</td>\n",
              "      <td>Violet Evergarden Gaiden: Eien to Jidou Shuki ...</td>\n",
              "      <td>NaN</td>\n",
              "      <td>['Slice of Life', 'Drama', 'Fantasy']</td>\n",
              "      <td>Sep 6, 2019</td>\n",
              "      <td>1.0</td>\n",
              "      <td>44496</td>\n",
              "      <td>2047</td>\n",
              "      <td>967.0</td>\n",
              "      <td>7.78</td>\n",
              "      <td>https://cdn.myanimelist.net/images/anime/1425/...</td>\n",
              "      <td>https://myanimelist.net/anime/39741/Violet_Eve...</td>\n",
              "    </tr>\n",
              "    <tr>\n",
              "      <th>19223</th>\n",
              "      <td>34374</td>\n",
              "      <td>Yuuki Yuuna wa Yuusha de Aru: Washio Sumi no S...</td>\n",
              "      <td>NaN</td>\n",
              "      <td>['Slice of Life', 'Drama', 'Magic', 'Fantasy']</td>\n",
              "      <td>Mar 18, 2017</td>\n",
              "      <td>1.0</td>\n",
              "      <td>10035</td>\n",
              "      <td>4347</td>\n",
              "      <td>1088.0</td>\n",
              "      <td>7.73</td>\n",
              "      <td>https://cdn.myanimelist.net/images/anime/5/864...</td>\n",
              "      <td>https://myanimelist.net/anime/34374/Yuuki_Yuun...</td>\n",
              "    </tr>\n",
              "    <tr>\n",
              "      <th>19242</th>\n",
              "      <td>37773</td>\n",
              "      <td>Yuru Yuri,</td>\n",
              "      <td>NaN</td>\n",
              "      <td>['Slice of Life', 'Comedy', 'School', 'Shoujo ...</td>\n",
              "      <td>Sep 18, 2019</td>\n",
              "      <td>1.0</td>\n",
              "      <td>13788</td>\n",
              "      <td>3824</td>\n",
              "      <td>1062.0</td>\n",
              "      <td>7.74</td>\n",
              "      <td>https://cdn.myanimelist.net/images/anime/1138/...</td>\n",
              "      <td>https://myanimelist.net/anime/37773/Yuru_Yuri</td>\n",
              "    </tr>\n",
              "    <tr>\n",
              "      <th>19251</th>\n",
              "      <td>39023</td>\n",
              "      <td>Qin Shi Ming Yue: Canghai Hengliu</td>\n",
              "      <td>NaN</td>\n",
              "      <td>['Action', 'Historical', 'Martial Arts', 'Fant...</td>\n",
              "      <td>Dec 27, 2018 to ?</td>\n",
              "      <td>NaN</td>\n",
              "      <td>553</td>\n",
              "      <td>10761</td>\n",
              "      <td>1051.0</td>\n",
              "      <td>7.74</td>\n",
              "      <td>https://cdn.myanimelist.net/images/anime/1307/...</td>\n",
              "      <td>https://myanimelist.net/anime/39023/Qin_Shi_Mi...</td>\n",
              "    </tr>\n",
              "  </tbody>\n",
              "</table>\n",
              "<p>975 rows × 12 columns</p>\n",
              "</div>"
            ],
            "text/plain": [
              "         uid                                              title synopsis  \\\n",
              "29      9563                     Hidamari Sketch x ☆☆☆ Specials      NaN   \n",
              "31     33280       Gochuumon wa Usagi Desu ka??: Dear My Sister      NaN   \n",
              "42     36160                         Yaoguai Mingdan 2nd Season      NaN   \n",
              "212    36370    Ginga Eiyuu Densetsu: Die Neue These - Seiran 2      NaN   \n",
              "216    39565   Boku no Hero Academia the Movie 2: Heroes:Rising      NaN   \n",
              "...      ...                                                ...      ...   \n",
              "19075  38262                           Pingu in the City (2018)      NaN   \n",
              "19157  39741  Violet Evergarden Gaiden: Eien to Jidou Shuki ...      NaN   \n",
              "19223  34374  Yuuki Yuuna wa Yuusha de Aru: Washio Sumi no S...      NaN   \n",
              "19242  37773                                         Yuru Yuri,      NaN   \n",
              "19251  39023                  Qin Shi Ming Yue: Canghai Hengliu      NaN   \n",
              "\n",
              "                                                   genre  \\\n",
              "29       ['Slice of Life', 'Comedy', 'School', 'Seinen']   \n",
              "31                           ['Slice of Life', 'Comedy']   \n",
              "42            ['Action', 'Comedy', 'Romance', 'Fantasy']   \n",
              "212    ['Action', 'Drama', 'Military', 'Sci-Fi', 'Spa...   \n",
              "216    ['Action', 'Comedy', 'Super Power', 'School', ...   \n",
              "...                                                  ...   \n",
              "19075                ['Slice of Life', 'Comedy', 'Kids']   \n",
              "19157              ['Slice of Life', 'Drama', 'Fantasy']   \n",
              "19223     ['Slice of Life', 'Drama', 'Magic', 'Fantasy']   \n",
              "19242  ['Slice of Life', 'Comedy', 'School', 'Shoujo ...   \n",
              "19251  ['Action', 'Historical', 'Martial Arts', 'Fant...   \n",
              "\n",
              "                              aired  episodes  members  popularity  ranked  \\\n",
              "29     Oct 23, 2010 to Oct 30, 2010       2.0    11600        4073   790.0   \n",
              "31                     Nov 11, 2017       1.0    20779        3141   788.0   \n",
              "42      Aug 2, 2017 to Dec 29, 2017      21.0     5238        5659   777.0   \n",
              "212                    Oct 25, 2019       4.0     8711        4598   598.0   \n",
              "216                    Dec 20, 2019       1.0    75929        1408   594.0   \n",
              "...                             ...       ...      ...         ...     ...   \n",
              "19075   Oct 6, 2018 to Mar 30, 2019      26.0     7507        4883   882.0   \n",
              "19157                   Sep 6, 2019       1.0    44496        2047   967.0   \n",
              "19223                  Mar 18, 2017       1.0    10035        4347  1088.0   \n",
              "19242                  Sep 18, 2019       1.0    13788        3824  1062.0   \n",
              "19251             Dec 27, 2018 to ?       NaN      553       10761  1051.0   \n",
              "\n",
              "       score                                            img_url  \\\n",
              "29      7.86  https://cdn.myanimelist.net/images/anime/3/264...   \n",
              "31      7.86  https://cdn.myanimelist.net/images/anime/1223/...   \n",
              "42      7.87  https://cdn.myanimelist.net/images/anime/4/874...   \n",
              "212     8.00  https://cdn.myanimelist.net/images/anime/1215/...   \n",
              "216     7.97  https://cdn.myanimelist.net/images/anime/1019/...   \n",
              "...      ...                                                ...   \n",
              "19075   7.82  https://cdn.myanimelist.net/images/anime/1315/...   \n",
              "19157   7.78  https://cdn.myanimelist.net/images/anime/1425/...   \n",
              "19223   7.73  https://cdn.myanimelist.net/images/anime/5/864...   \n",
              "19242   7.74  https://cdn.myanimelist.net/images/anime/1138/...   \n",
              "19251   7.74  https://cdn.myanimelist.net/images/anime/1307/...   \n",
              "\n",
              "                                                    link  \n",
              "29     https://myanimelist.net/anime/9563/Hidamari_Sk...  \n",
              "31     https://myanimelist.net/anime/33280/Gochuumon_...  \n",
              "42     https://myanimelist.net/anime/36160/Yaoguai_Mi...  \n",
              "212    https://myanimelist.net/anime/36370/Ginga_Eiyu...  \n",
              "216    https://myanimelist.net/anime/39565/Boku_no_He...  \n",
              "...                                                  ...  \n",
              "19075  https://myanimelist.net/anime/38262/Pingu_in_t...  \n",
              "19157  https://myanimelist.net/anime/39741/Violet_Eve...  \n",
              "19223  https://myanimelist.net/anime/34374/Yuuki_Yuun...  \n",
              "19242      https://myanimelist.net/anime/37773/Yuru_Yuri  \n",
              "19251  https://myanimelist.net/anime/39023/Qin_Shi_Mi...  \n",
              "\n",
              "[975 rows x 12 columns]"
            ]
          },
          "execution_count": 7,
          "metadata": {},
          "output_type": "execute_result"
        }
      ],
      "source": [
        "animes[animes['synopsis'].isna()]"
      ]
    },
    {
      "cell_type": "code",
      "execution_count": 8,
      "metadata": {
        "colab": {
          "base_uri": "https://localhost:8080/"
        },
        "id": "oy8sv_u911FH",
        "outputId": "15d31368-daab-4879-ff45-3ea8c6bd0c52"
      },
      "outputs": [
        {
          "data": {
            "text/plain": [
              "Index(['uid', 'title', 'synopsis', 'genre', 'aired', 'episodes', 'members',\n",
              "       'popularity', 'ranked', 'score', 'img_url', 'link'],\n",
              "      dtype='object')"
            ]
          },
          "execution_count": 8,
          "metadata": {},
          "output_type": "execute_result"
        }
      ],
      "source": [
        "animes.columns\n"
      ]
    },
    {
      "cell_type": "code",
      "execution_count": 9,
      "metadata": {
        "colab": {
          "base_uri": "https://localhost:8080/"
        },
        "id": "egIEbfDF11FI",
        "outputId": "1aa5260e-a4ff-48d4-ed3e-f6b73237452f"
      },
      "outputs": [
        {
          "data": {
            "text/plain": [
              "0        Following their participation at the Inter-Hig...\n",
              "1        Music accompanies the path of the human metron...\n",
              "2        The Abyss—a gaping chasm stretching down into ...\n",
              "3        \"In order for something to be obtained, someth...\n",
              "4        After helping revive the legendary vampire Kis...\n",
              "                               ...                        \n",
              "19306    Cocona is an average middle schooler living wi...\n",
              "19307    While visiting the National Library, junior-hi...\n",
              "19308    Years ago, all of the ghosts in a haunted scho...\n",
              "19309    Inuyasha and company have finally destroyed Na...\n",
              "19310    The year is Universal Century 0093. Char Aznab...\n",
              "Name: synopsis, Length: 19311, dtype: object"
            ]
          },
          "execution_count": 9,
          "metadata": {},
          "output_type": "execute_result"
        }
      ],
      "source": [
        "animes.synopsis"
      ]
    },
    {
      "cell_type": "markdown",
      "metadata": {},
      "source": [
        "### preprocessing"
      ]
    },
    {
      "cell_type": "code",
      "execution_count": 10,
      "metadata": {
        "id": "hBlbM9FE11FJ"
      },
      "outputs": [],
      "source": [
        "animes = animes[[\"synopsis\",\"genre\"]]"
      ]
    },
    {
      "cell_type": "code",
      "execution_count": 11,
      "metadata": {
        "colab": {
          "base_uri": "https://localhost:8080/",
          "height": 423
        },
        "id": "zk5BFrKY11FK",
        "outputId": "47d598a0-9832-4402-b72e-f76e561c7f8f"
      },
      "outputs": [
        {
          "data": {
            "text/html": [
              "<div>\n",
              "<style scoped>\n",
              "    .dataframe tbody tr th:only-of-type {\n",
              "        vertical-align: middle;\n",
              "    }\n",
              "\n",
              "    .dataframe tbody tr th {\n",
              "        vertical-align: top;\n",
              "    }\n",
              "\n",
              "    .dataframe thead th {\n",
              "        text-align: right;\n",
              "    }\n",
              "</style>\n",
              "<table border=\"1\" class=\"dataframe\">\n",
              "  <thead>\n",
              "    <tr style=\"text-align: right;\">\n",
              "      <th></th>\n",
              "      <th>synopsis</th>\n",
              "      <th>genre</th>\n",
              "    </tr>\n",
              "  </thead>\n",
              "  <tbody>\n",
              "    <tr>\n",
              "      <th>0</th>\n",
              "      <td>Following their participation at the Inter-Hig...</td>\n",
              "      <td>['Comedy', 'Sports', 'Drama', 'School', 'Shoun...</td>\n",
              "    </tr>\n",
              "    <tr>\n",
              "      <th>1</th>\n",
              "      <td>Music accompanies the path of the human metron...</td>\n",
              "      <td>['Drama', 'Music', 'Romance', 'School', 'Shoun...</td>\n",
              "    </tr>\n",
              "    <tr>\n",
              "      <th>2</th>\n",
              "      <td>The Abyss—a gaping chasm stretching down into ...</td>\n",
              "      <td>['Sci-Fi', 'Adventure', 'Mystery', 'Drama', 'F...</td>\n",
              "    </tr>\n",
              "    <tr>\n",
              "      <th>3</th>\n",
              "      <td>\"In order for something to be obtained, someth...</td>\n",
              "      <td>['Action', 'Military', 'Adventure', 'Comedy', ...</td>\n",
              "    </tr>\n",
              "    <tr>\n",
              "      <th>4</th>\n",
              "      <td>After helping revive the legendary vampire Kis...</td>\n",
              "      <td>['Action', 'Mystery', 'Supernatural', 'Vampire']</td>\n",
              "    </tr>\n",
              "    <tr>\n",
              "      <th>...</th>\n",
              "      <td>...</td>\n",
              "      <td>...</td>\n",
              "    </tr>\n",
              "    <tr>\n",
              "      <th>19306</th>\n",
              "      <td>Cocona is an average middle schooler living wi...</td>\n",
              "      <td>['Sci-Fi', 'Adventure', 'Comedy', 'Magic']</td>\n",
              "    </tr>\n",
              "    <tr>\n",
              "      <th>19307</th>\n",
              "      <td>While visiting the National Library, junior-hi...</td>\n",
              "      <td>['Adventure', 'Fantasy', 'Magic', 'Martial Art...</td>\n",
              "    </tr>\n",
              "    <tr>\n",
              "      <th>19308</th>\n",
              "      <td>Years ago, all of the ghosts in a haunted scho...</td>\n",
              "      <td>['Mystery', 'Horror', 'Supernatural']</td>\n",
              "    </tr>\n",
              "    <tr>\n",
              "      <th>19309</th>\n",
              "      <td>Inuyasha and company have finally destroyed Na...</td>\n",
              "      <td>['Action', 'Adventure', 'Comedy', 'Historical'...</td>\n",
              "    </tr>\n",
              "    <tr>\n",
              "      <th>19310</th>\n",
              "      <td>The year is Universal Century 0093. Char Aznab...</td>\n",
              "      <td>['Military', 'Sci-Fi', 'Space', 'Drama', 'Mecha']</td>\n",
              "    </tr>\n",
              "  </tbody>\n",
              "</table>\n",
              "<p>19311 rows × 2 columns</p>\n",
              "</div>"
            ],
            "text/plain": [
              "                                                synopsis  \\\n",
              "0      Following their participation at the Inter-Hig...   \n",
              "1      Music accompanies the path of the human metron...   \n",
              "2      The Abyss—a gaping chasm stretching down into ...   \n",
              "3      \"In order for something to be obtained, someth...   \n",
              "4      After helping revive the legendary vampire Kis...   \n",
              "...                                                  ...   \n",
              "19306  Cocona is an average middle schooler living wi...   \n",
              "19307  While visiting the National Library, junior-hi...   \n",
              "19308  Years ago, all of the ghosts in a haunted scho...   \n",
              "19309  Inuyasha and company have finally destroyed Na...   \n",
              "19310  The year is Universal Century 0093. Char Aznab...   \n",
              "\n",
              "                                                   genre  \n",
              "0      ['Comedy', 'Sports', 'Drama', 'School', 'Shoun...  \n",
              "1      ['Drama', 'Music', 'Romance', 'School', 'Shoun...  \n",
              "2      ['Sci-Fi', 'Adventure', 'Mystery', 'Drama', 'F...  \n",
              "3      ['Action', 'Military', 'Adventure', 'Comedy', ...  \n",
              "4       ['Action', 'Mystery', 'Supernatural', 'Vampire']  \n",
              "...                                                  ...  \n",
              "19306         ['Sci-Fi', 'Adventure', 'Comedy', 'Magic']  \n",
              "19307  ['Adventure', 'Fantasy', 'Magic', 'Martial Art...  \n",
              "19308              ['Mystery', 'Horror', 'Supernatural']  \n",
              "19309  ['Action', 'Adventure', 'Comedy', 'Historical'...  \n",
              "19310  ['Military', 'Sci-Fi', 'Space', 'Drama', 'Mecha']  \n",
              "\n",
              "[19311 rows x 2 columns]"
            ]
          },
          "execution_count": 11,
          "metadata": {},
          "output_type": "execute_result"
        }
      ],
      "source": [
        "animes"
      ]
    },
    {
      "cell_type": "code",
      "execution_count": 12,
      "metadata": {
        "colab": {
          "base_uri": "https://localhost:8080/"
        },
        "id": "R2iFUkSK11FK",
        "outputId": "4942dd26-6aa8-4c32-8e44-620c23268df9"
      },
      "outputs": [
        {
          "name": "stderr",
          "output_type": "stream",
          "text": [
            "C:\\Users\\HP\\AppData\\Local\\Temp\\ipykernel_10252\\2197205818.py:4: SettingWithCopyWarning: \n",
            "A value is trying to be set on a copy of a slice from a DataFrame.\n",
            "Try using .loc[row_indexer,col_indexer] = value instead\n",
            "\n",
            "See the caveats in the documentation: https://pandas.pydata.org/pandas-docs/stable/user_guide/indexing.html#returning-a-view-versus-a-copy\n",
            "  animes[\"genre\"] = animes[\"genre\"].apply(lambda x: ast.literal_eval(x))\n"
          ]
        }
      ],
      "source": [
        "import ast\n",
        "\n",
        "# Assuming 'genre' is the column containing string representations of lists\n",
        "animes[\"genre\"] = animes[\"genre\"].apply(lambda x: ast.literal_eval(x))\n"
      ]
    },
    {
      "cell_type": "code",
      "execution_count": 13,
      "metadata": {
        "colab": {
          "base_uri": "https://localhost:8080/",
          "height": 423
        },
        "id": "CYDbWlHA11FL",
        "outputId": "0dc7748a-7937-4025-b966-27ed740db0cc"
      },
      "outputs": [
        {
          "data": {
            "text/html": [
              "<div>\n",
              "<style scoped>\n",
              "    .dataframe tbody tr th:only-of-type {\n",
              "        vertical-align: middle;\n",
              "    }\n",
              "\n",
              "    .dataframe tbody tr th {\n",
              "        vertical-align: top;\n",
              "    }\n",
              "\n",
              "    .dataframe thead th {\n",
              "        text-align: right;\n",
              "    }\n",
              "</style>\n",
              "<table border=\"1\" class=\"dataframe\">\n",
              "  <thead>\n",
              "    <tr style=\"text-align: right;\">\n",
              "      <th></th>\n",
              "      <th>synopsis</th>\n",
              "      <th>genre</th>\n",
              "    </tr>\n",
              "  </thead>\n",
              "  <tbody>\n",
              "    <tr>\n",
              "      <th>0</th>\n",
              "      <td>Following their participation at the Inter-Hig...</td>\n",
              "      <td>[Comedy, Sports, Drama, School, Shounen]</td>\n",
              "    </tr>\n",
              "    <tr>\n",
              "      <th>1</th>\n",
              "      <td>Music accompanies the path of the human metron...</td>\n",
              "      <td>[Drama, Music, Romance, School, Shounen]</td>\n",
              "    </tr>\n",
              "    <tr>\n",
              "      <th>2</th>\n",
              "      <td>The Abyss—a gaping chasm stretching down into ...</td>\n",
              "      <td>[Sci-Fi, Adventure, Mystery, Drama, Fantasy]</td>\n",
              "    </tr>\n",
              "    <tr>\n",
              "      <th>3</th>\n",
              "      <td>\"In order for something to be obtained, someth...</td>\n",
              "      <td>[Action, Military, Adventure, Comedy, Drama, M...</td>\n",
              "    </tr>\n",
              "    <tr>\n",
              "      <th>4</th>\n",
              "      <td>After helping revive the legendary vampire Kis...</td>\n",
              "      <td>[Action, Mystery, Supernatural, Vampire]</td>\n",
              "    </tr>\n",
              "    <tr>\n",
              "      <th>...</th>\n",
              "      <td>...</td>\n",
              "      <td>...</td>\n",
              "    </tr>\n",
              "    <tr>\n",
              "      <th>19306</th>\n",
              "      <td>Cocona is an average middle schooler living wi...</td>\n",
              "      <td>[Sci-Fi, Adventure, Comedy, Magic]</td>\n",
              "    </tr>\n",
              "    <tr>\n",
              "      <th>19307</th>\n",
              "      <td>While visiting the National Library, junior-hi...</td>\n",
              "      <td>[Adventure, Fantasy, Magic, Martial Arts, Come...</td>\n",
              "    </tr>\n",
              "    <tr>\n",
              "      <th>19308</th>\n",
              "      <td>Years ago, all of the ghosts in a haunted scho...</td>\n",
              "      <td>[Mystery, Horror, Supernatural]</td>\n",
              "    </tr>\n",
              "    <tr>\n",
              "      <th>19309</th>\n",
              "      <td>Inuyasha and company have finally destroyed Na...</td>\n",
              "      <td>[Action, Adventure, Comedy, Historical, Demons...</td>\n",
              "    </tr>\n",
              "    <tr>\n",
              "      <th>19310</th>\n",
              "      <td>The year is Universal Century 0093. Char Aznab...</td>\n",
              "      <td>[Military, Sci-Fi, Space, Drama, Mecha]</td>\n",
              "    </tr>\n",
              "  </tbody>\n",
              "</table>\n",
              "<p>19311 rows × 2 columns</p>\n",
              "</div>"
            ],
            "text/plain": [
              "                                                synopsis  \\\n",
              "0      Following their participation at the Inter-Hig...   \n",
              "1      Music accompanies the path of the human metron...   \n",
              "2      The Abyss—a gaping chasm stretching down into ...   \n",
              "3      \"In order for something to be obtained, someth...   \n",
              "4      After helping revive the legendary vampire Kis...   \n",
              "...                                                  ...   \n",
              "19306  Cocona is an average middle schooler living wi...   \n",
              "19307  While visiting the National Library, junior-hi...   \n",
              "19308  Years ago, all of the ghosts in a haunted scho...   \n",
              "19309  Inuyasha and company have finally destroyed Na...   \n",
              "19310  The year is Universal Century 0093. Char Aznab...   \n",
              "\n",
              "                                                   genre  \n",
              "0               [Comedy, Sports, Drama, School, Shounen]  \n",
              "1               [Drama, Music, Romance, School, Shounen]  \n",
              "2           [Sci-Fi, Adventure, Mystery, Drama, Fantasy]  \n",
              "3      [Action, Military, Adventure, Comedy, Drama, M...  \n",
              "4               [Action, Mystery, Supernatural, Vampire]  \n",
              "...                                                  ...  \n",
              "19306                 [Sci-Fi, Adventure, Comedy, Magic]  \n",
              "19307  [Adventure, Fantasy, Magic, Martial Arts, Come...  \n",
              "19308                    [Mystery, Horror, Supernatural]  \n",
              "19309  [Action, Adventure, Comedy, Historical, Demons...  \n",
              "19310            [Military, Sci-Fi, Space, Drama, Mecha]  \n",
              "\n",
              "[19311 rows x 2 columns]"
            ]
          },
          "execution_count": 13,
          "metadata": {},
          "output_type": "execute_result"
        }
      ],
      "source": [
        "animes"
      ]
    },
    {
      "cell_type": "code",
      "execution_count": 14,
      "metadata": {
        "id": "JhuxHlpG11FL"
      },
      "outputs": [],
      "source": [
        "from sklearn.preprocessing import MultiLabelBinarizer\n",
        "# Convert genres to binary representation\n",
        "mlb = MultiLabelBinarizer()\n",
        "y = mlb.fit_transform(animes['genre'])"
      ]
    },
    {
      "cell_type": "code",
      "execution_count": 15,
      "metadata": {
        "colab": {
          "base_uri": "https://localhost:8080/"
        },
        "id": "C1Vx7Bc-11FM",
        "outputId": "16645890-0105-413f-c49d-43951c6f914f"
      },
      "outputs": [
        {
          "name": "stderr",
          "output_type": "stream",
          "text": [
            "C:\\Users\\HP\\AppData\\Local\\Temp\\ipykernel_10252\\548302247.py:2: SettingWithCopyWarning: \n",
            "A value is trying to be set on a copy of a slice from a DataFrame.\n",
            "Try using .loc[row_indexer,col_indexer] = value instead\n",
            "\n",
            "See the caveats in the documentation: https://pandas.pydata.org/pandas-docs/stable/user_guide/indexing.html#returning-a-view-versus-a-copy\n",
            "  animes[category] = y[:,i]\n",
            "C:\\Users\\HP\\AppData\\Local\\Temp\\ipykernel_10252\\548302247.py:2: SettingWithCopyWarning: \n",
            "A value is trying to be set on a copy of a slice from a DataFrame.\n",
            "Try using .loc[row_indexer,col_indexer] = value instead\n",
            "\n",
            "See the caveats in the documentation: https://pandas.pydata.org/pandas-docs/stable/user_guide/indexing.html#returning-a-view-versus-a-copy\n",
            "  animes[category] = y[:,i]\n",
            "C:\\Users\\HP\\AppData\\Local\\Temp\\ipykernel_10252\\548302247.py:2: SettingWithCopyWarning: \n",
            "A value is trying to be set on a copy of a slice from a DataFrame.\n",
            "Try using .loc[row_indexer,col_indexer] = value instead\n",
            "\n",
            "See the caveats in the documentation: https://pandas.pydata.org/pandas-docs/stable/user_guide/indexing.html#returning-a-view-versus-a-copy\n",
            "  animes[category] = y[:,i]\n",
            "C:\\Users\\HP\\AppData\\Local\\Temp\\ipykernel_10252\\548302247.py:2: SettingWithCopyWarning: \n",
            "A value is trying to be set on a copy of a slice from a DataFrame.\n",
            "Try using .loc[row_indexer,col_indexer] = value instead\n",
            "\n",
            "See the caveats in the documentation: https://pandas.pydata.org/pandas-docs/stable/user_guide/indexing.html#returning-a-view-versus-a-copy\n",
            "  animes[category] = y[:,i]\n",
            "C:\\Users\\HP\\AppData\\Local\\Temp\\ipykernel_10252\\548302247.py:2: SettingWithCopyWarning: \n",
            "A value is trying to be set on a copy of a slice from a DataFrame.\n",
            "Try using .loc[row_indexer,col_indexer] = value instead\n",
            "\n",
            "See the caveats in the documentation: https://pandas.pydata.org/pandas-docs/stable/user_guide/indexing.html#returning-a-view-versus-a-copy\n",
            "  animes[category] = y[:,i]\n",
            "C:\\Users\\HP\\AppData\\Local\\Temp\\ipykernel_10252\\548302247.py:2: SettingWithCopyWarning: \n",
            "A value is trying to be set on a copy of a slice from a DataFrame.\n",
            "Try using .loc[row_indexer,col_indexer] = value instead\n",
            "\n",
            "See the caveats in the documentation: https://pandas.pydata.org/pandas-docs/stable/user_guide/indexing.html#returning-a-view-versus-a-copy\n",
            "  animes[category] = y[:,i]\n",
            "C:\\Users\\HP\\AppData\\Local\\Temp\\ipykernel_10252\\548302247.py:2: SettingWithCopyWarning: \n",
            "A value is trying to be set on a copy of a slice from a DataFrame.\n",
            "Try using .loc[row_indexer,col_indexer] = value instead\n",
            "\n",
            "See the caveats in the documentation: https://pandas.pydata.org/pandas-docs/stable/user_guide/indexing.html#returning-a-view-versus-a-copy\n",
            "  animes[category] = y[:,i]\n",
            "C:\\Users\\HP\\AppData\\Local\\Temp\\ipykernel_10252\\548302247.py:2: SettingWithCopyWarning: \n",
            "A value is trying to be set on a copy of a slice from a DataFrame.\n",
            "Try using .loc[row_indexer,col_indexer] = value instead\n",
            "\n",
            "See the caveats in the documentation: https://pandas.pydata.org/pandas-docs/stable/user_guide/indexing.html#returning-a-view-versus-a-copy\n",
            "  animes[category] = y[:,i]\n",
            "C:\\Users\\HP\\AppData\\Local\\Temp\\ipykernel_10252\\548302247.py:2: SettingWithCopyWarning: \n",
            "A value is trying to be set on a copy of a slice from a DataFrame.\n",
            "Try using .loc[row_indexer,col_indexer] = value instead\n",
            "\n",
            "See the caveats in the documentation: https://pandas.pydata.org/pandas-docs/stable/user_guide/indexing.html#returning-a-view-versus-a-copy\n",
            "  animes[category] = y[:,i]\n"
          ]
        }
      ],
      "source": [
        "for (category, i) in zip(mlb.classes_, range(len(y[0]))):\n",
        "    animes[category] = y[:,i]"
      ]
    },
    {
      "cell_type": "code",
      "execution_count": 16,
      "metadata": {
        "colab": {
          "base_uri": "https://localhost:8080/",
          "height": 487
        },
        "id": "mHK_sugv11FM",
        "outputId": "61303fa5-0ebb-40b2-dc4d-ce9b10fd081d"
      },
      "outputs": [
        {
          "data": {
            "image/png": "[encoded data removed]",
            "text/plain": [
              "<Figure size 640x480 with 1 Axes>"
            ]
          },
          "metadata": {},
          "output_type": "display_data"
        }
      ],
      "source": [
        "from matplotlib import pyplot as plt\n",
        "genres = animes[['Action', 'Adventure', 'Cars', 'Comedy',\n",
        "       'Dementia', 'Demons', 'Drama', 'Ecchi', 'Fantasy', 'Game', 'Harem',\n",
        "       'Hentai', 'Historical', 'Horror', 'Josei', 'Kids', 'Magic',\n",
        "       'Martial Arts', 'Mecha', 'Military', 'Music', 'Mystery', 'Parody',\n",
        "       'Police', 'Psychological', 'Romance', 'Samurai', 'School', 'Sci-Fi',\n",
        "       'Seinen', 'Shoujo', 'Shoujo Ai', 'Shounen', 'Shounen Ai',\n",
        "       'Slice of Life', 'Space', 'Sports', 'Super Power', 'Supernatural',\n",
        "       'Thriller', 'Vampire', 'Yaoi', 'Yuri']]\n",
        "\n",
        "plt.bar(genres.keys(), genres.sum(), color='skyblue')\n",
        "plt.xlabel('Genre')\n",
        "plt.ylabel('Frequency')\n",
        "plt.title('Frequency of Genres in Movie Dataset')\n",
        "plt.xticks(rotation=45, ha='right')  # Rotate x-axis labels for better visibility\n",
        "plt.tight_layout()\n",
        "plt.show()\n"
      ]
    },
    {
      "cell_type": "code",
      "execution_count": 17,
      "metadata": {
        "id": "e1Ml3zRe11FN"
      },
      "outputs": [],
      "source": [
        "genres = (genres.sum()>1500)\n",
        "true_indexes = genres[genres].index"
      ]
    },
    {
      "cell_type": "code",
      "execution_count": 18,
      "metadata": {
        "colab": {
          "base_uri": "https://localhost:8080/"
        },
        "id": "88Q144aC11FN",
        "outputId": "dc0783ea-63d5-4d75-c903-5372177e3da1"
      },
      "outputs": [
        {
          "data": {
            "text/plain": [
              "Index(['Action', 'Adventure', 'Comedy', 'Drama', 'Fantasy', 'Hentai', 'Kids',\n",
              "       'Music', 'Romance', 'School', 'Sci-Fi', 'Shounen', 'Slice of Life',\n",
              "       'Supernatural'],\n",
              "      dtype='object')"
            ]
          },
          "execution_count": 18,
          "metadata": {},
          "output_type": "execute_result"
        }
      ],
      "source": [
        "true_indexes"
      ]
    },
    {
      "cell_type": "code",
      "execution_count": 19,
      "metadata": {
        "id": "rF-nR4U511FO"
      },
      "outputs": [],
      "source": [
        "genres_chosed = animes[true_indexes]"
      ]
    },
    {
      "cell_type": "code",
      "execution_count": 20,
      "metadata": {
        "colab": {
          "base_uri": "https://localhost:8080/",
          "height": 487
        },
        "id": "Bv6unUtO11FO",
        "outputId": "31d68c66-0cb7-47a1-82ee-c4ca4bfc8bba"
      },
      "outputs": [
        {
          "data": {
            "image/png": "[encoded data removed]",
            "text/plain": [
              "<Figure size 640x480 with 1 Axes>"
            ]
          },
          "metadata": {},
          "output_type": "display_data"
        }
      ],
      "source": [
        "plt.bar(genres_chosed.keys(), genres_chosed.sum(), color='skyblue')\n",
        "plt.xlabel('Genre')\n",
        "plt.ylabel('Frequency')\n",
        "plt.title('Frequency of Genres in Anime Dataset')\n",
        "plt.xticks(rotation=45, ha='right')  # Rotate x-axis labels for better visibility\n",
        "plt.tight_layout()\n",
        "plt.show()\n"
      ]
    },
    {
      "cell_type": "code",
      "execution_count": 21,
      "metadata": {
        "colab": {
          "base_uri": "https://localhost:8080/"
        },
        "id": "kl898_EF11FP",
        "outputId": "8ea3815d-d2aa-49ba-b4bf-19aa3e0bcba5"
      },
      "outputs": [
        {
          "data": {
            "text/plain": [
              "Index(['synopsis', 'genre', 'Action', 'Adventure', 'Cars', 'Comedy',\n",
              "       'Dementia', 'Demons', 'Drama', 'Ecchi', 'Fantasy', 'Game', 'Harem',\n",
              "       'Hentai', 'Historical', 'Horror', 'Josei', 'Kids', 'Magic',\n",
              "       'Martial Arts', 'Mecha', 'Military', 'Music', 'Mystery', 'Parody',\n",
              "       'Police', 'Psychological', 'Romance', 'Samurai', 'School', 'Sci-Fi',\n",
              "       'Seinen', 'Shoujo', 'Shoujo Ai', 'Shounen', 'Shounen Ai',\n",
              "       'Slice of Life', 'Space', 'Sports', 'Super Power', 'Supernatural',\n",
              "       'Thriller', 'Vampire', 'Yaoi', 'Yuri'],\n",
              "      dtype='object')"
            ]
          },
          "execution_count": 21,
          "metadata": {},
          "output_type": "execute_result"
        }
      ],
      "source": [
        "animes.columns"
      ]
    },
    {
      "cell_type": "code",
      "execution_count": 22,
      "metadata": {
        "colab": {
          "base_uri": "https://localhost:8080/"
        },
        "id": "-FAdi2Aq11FP",
        "outputId": "75cdbf33-1a76-4cd1-cd87-c3e52c89a886"
      },
      "outputs": [
        {
          "name": "stderr",
          "output_type": "stream",
          "text": [
            "C:\\Users\\HP\\AppData\\Local\\Temp\\ipykernel_10252\\3719954312.py:1: SettingWithCopyWarning: \n",
            "A value is trying to be set on a copy of a slice from a DataFrame.\n",
            "Try using .loc[row_indexer,col_indexer] = value instead\n",
            "\n",
            "See the caveats in the documentation: https://pandas.pydata.org/pandas-docs/stable/user_guide/indexing.html#returning-a-view-versus-a-copy\n",
            "  genres_chosed['synopsis'] = animes['synopsis']\n"
          ]
        }
      ],
      "source": [
        "genres_chosed['synopsis'] = animes['synopsis']\n",
        "animes = genres_chosed"
      ]
    },
    {
      "cell_type": "code",
      "execution_count": 23,
      "metadata": {
        "colab": {
          "base_uri": "https://localhost:8080/",
          "height": 1000
        },
        "id": "bctYuSZs11FQ",
        "outputId": "159588bb-ee38-4d16-f4af-c8adb5d4a486"
      },
      "outputs": [
        {
          "data": {
            "text/html": [
              "<div>\n",
              "<style scoped>\n",
              "    .dataframe tbody tr th:only-of-type {\n",
              "        vertical-align: middle;\n",
              "    }\n",
              "\n",
              "    .dataframe tbody tr th {\n",
              "        vertical-align: top;\n",
              "    }\n",
              "\n",
              "    .dataframe thead th {\n",
              "        text-align: right;\n",
              "    }\n",
              "</style>\n",
              "<table border=\"1\" class=\"dataframe\">\n",
              "  <thead>\n",
              "    <tr style=\"text-align: right;\">\n",
              "      <th></th>\n",
              "      <th>Action</th>\n",
              "      <th>Adventure</th>\n",
              "      <th>Comedy</th>\n",
              "      <th>Drama</th>\n",
              "      <th>Fantasy</th>\n",
              "      <th>Hentai</th>\n",
              "      <th>Kids</th>\n",
              "      <th>Music</th>\n",
              "      <th>Romance</th>\n",
              "      <th>School</th>\n",
              "      <th>Sci-Fi</th>\n",
              "      <th>Shounen</th>\n",
              "      <th>Slice of Life</th>\n",
              "      <th>Supernatural</th>\n",
              "      <th>synopsis</th>\n",
              "    </tr>\n",
              "  </thead>\n",
              "  <tbody>\n",
              "    <tr>\n",
              "      <th>0</th>\n",
              "      <td>0</td>\n",
              "      <td>0</td>\n",
              "      <td>1</td>\n",
              "      <td>1</td>\n",
              "      <td>0</td>\n",
              "      <td>0</td>\n",
              "      <td>0</td>\n",
              "      <td>0</td>\n",
              "      <td>0</td>\n",
              "      <td>1</td>\n",
              "      <td>0</td>\n",
              "      <td>1</td>\n",
              "      <td>0</td>\n",
              "      <td>0</td>\n",
              "      <td>Following their participation at the Inter-Hig...</td>\n",
              "    </tr>\n",
              "    <tr>\n",
              "      <th>1</th>\n",
              "      <td>0</td>\n",
              "      <td>0</td>\n",
              "      <td>0</td>\n",
              "      <td>1</td>\n",
              "      <td>0</td>\n",
              "      <td>0</td>\n",
              "      <td>0</td>\n",
              "      <td>1</td>\n",
              "      <td>1</td>\n",
              "      <td>1</td>\n",
              "      <td>0</td>\n",
              "      <td>1</td>\n",
              "      <td>0</td>\n",
              "      <td>0</td>\n",
              "      <td>Music accompanies the path of the human metron...</td>\n",
              "    </tr>\n",
              "    <tr>\n",
              "      <th>2</th>\n",
              "      <td>0</td>\n",
              "      <td>1</td>\n",
              "      <td>0</td>\n",
              "      <td>1</td>\n",
              "      <td>1</td>\n",
              "      <td>0</td>\n",
              "      <td>0</td>\n",
              "      <td>0</td>\n",
              "      <td>0</td>\n",
              "      <td>0</td>\n",
              "      <td>1</td>\n",
              "      <td>0</td>\n",
              "      <td>0</td>\n",
              "      <td>0</td>\n",
              "      <td>The Abyss—a gaping chasm stretching down into ...</td>\n",
              "    </tr>\n",
              "    <tr>\n",
              "      <th>3</th>\n",
              "      <td>1</td>\n",
              "      <td>1</td>\n",
              "      <td>1</td>\n",
              "      <td>1</td>\n",
              "      <td>1</td>\n",
              "      <td>0</td>\n",
              "      <td>0</td>\n",
              "      <td>0</td>\n",
              "      <td>0</td>\n",
              "      <td>0</td>\n",
              "      <td>0</td>\n",
              "      <td>1</td>\n",
              "      <td>0</td>\n",
              "      <td>0</td>\n",
              "      <td>\"In order for something to be obtained, someth...</td>\n",
              "    </tr>\n",
              "    <tr>\n",
              "      <th>4</th>\n",
              "      <td>1</td>\n",
              "      <td>0</td>\n",
              "      <td>0</td>\n",
              "      <td>0</td>\n",
              "      <td>0</td>\n",
              "      <td>0</td>\n",
              "      <td>0</td>\n",
              "      <td>0</td>\n",
              "      <td>0</td>\n",
              "      <td>0</td>\n",
              "      <td>0</td>\n",
              "      <td>0</td>\n",
              "      <td>0</td>\n",
              "      <td>1</td>\n",
              "      <td>After helping revive the legendary vampire Kis...</td>\n",
              "    </tr>\n",
              "    <tr>\n",
              "      <th>...</th>\n",
              "      <td>...</td>\n",
              "      <td>...</td>\n",
              "      <td>...</td>\n",
              "      <td>...</td>\n",
              "      <td>...</td>\n",
              "      <td>...</td>\n",
              "      <td>...</td>\n",
              "      <td>...</td>\n",
              "      <td>...</td>\n",
              "      <td>...</td>\n",
              "      <td>...</td>\n",
              "      <td>...</td>\n",
              "      <td>...</td>\n",
              "      <td>...</td>\n",
              "      <td>...</td>\n",
              "    </tr>\n",
              "    <tr>\n",
              "      <th>19306</th>\n",
              "      <td>0</td>\n",
              "      <td>1</td>\n",
              "      <td>1</td>\n",
              "      <td>0</td>\n",
              "      <td>0</td>\n",
              "      <td>0</td>\n",
              "      <td>0</td>\n",
              "      <td>0</td>\n",
              "      <td>0</td>\n",
              "      <td>0</td>\n",
              "      <td>1</td>\n",
              "      <td>0</td>\n",
              "      <td>0</td>\n",
              "      <td>0</td>\n",
              "      <td>Cocona is an average middle schooler living wi...</td>\n",
              "    </tr>\n",
              "    <tr>\n",
              "      <th>19307</th>\n",
              "      <td>0</td>\n",
              "      <td>1</td>\n",
              "      <td>1</td>\n",
              "      <td>1</td>\n",
              "      <td>1</td>\n",
              "      <td>0</td>\n",
              "      <td>0</td>\n",
              "      <td>0</td>\n",
              "      <td>1</td>\n",
              "      <td>0</td>\n",
              "      <td>0</td>\n",
              "      <td>0</td>\n",
              "      <td>0</td>\n",
              "      <td>0</td>\n",
              "      <td>While visiting the National Library, junior-hi...</td>\n",
              "    </tr>\n",
              "    <tr>\n",
              "      <th>19308</th>\n",
              "      <td>0</td>\n",
              "      <td>0</td>\n",
              "      <td>0</td>\n",
              "      <td>0</td>\n",
              "      <td>0</td>\n",
              "      <td>0</td>\n",
              "      <td>0</td>\n",
              "      <td>0</td>\n",
              "      <td>0</td>\n",
              "      <td>0</td>\n",
              "      <td>0</td>\n",
              "      <td>0</td>\n",
              "      <td>0</td>\n",
              "      <td>1</td>\n",
              "      <td>Years ago, all of the ghosts in a haunted scho...</td>\n",
              "    </tr>\n",
              "    <tr>\n",
              "      <th>19309</th>\n",
              "      <td>1</td>\n",
              "      <td>1</td>\n",
              "      <td>1</td>\n",
              "      <td>1</td>\n",
              "      <td>1</td>\n",
              "      <td>0</td>\n",
              "      <td>0</td>\n",
              "      <td>0</td>\n",
              "      <td>1</td>\n",
              "      <td>0</td>\n",
              "      <td>0</td>\n",
              "      <td>1</td>\n",
              "      <td>0</td>\n",
              "      <td>1</td>\n",
              "      <td>Inuyasha and company have finally destroyed Na...</td>\n",
              "    </tr>\n",
              "    <tr>\n",
              "      <th>19310</th>\n",
              "      <td>0</td>\n",
              "      <td>0</td>\n",
              "      <td>0</td>\n",
              "      <td>1</td>\n",
              "      <td>0</td>\n",
              "      <td>0</td>\n",
              "      <td>0</td>\n",
              "      <td>0</td>\n",
              "      <td>0</td>\n",
              "      <td>0</td>\n",
              "      <td>1</td>\n",
              "      <td>0</td>\n",
              "      <td>0</td>\n",
              "      <td>0</td>\n",
              "      <td>The year is Universal Century 0093. Char Aznab...</td>\n",
              "    </tr>\n",
              "  </tbody>\n",
              "</table>\n",
              "<p>19311 rows × 15 columns</p>\n",
              "</div>"
            ],
            "text/plain": [
              "       Action  Adventure  Comedy  Drama  Fantasy  Hentai  Kids  Music  \\\n",
              "0           0          0       1      1        0       0     0      0   \n",
              "1           0          0       0      1        0       0     0      1   \n",
              "2           0          1       0      1        1       0     0      0   \n",
              "3           1          1       1      1        1       0     0      0   \n",
              "4           1          0       0      0        0       0     0      0   \n",
              "...       ...        ...     ...    ...      ...     ...   ...    ...   \n",
              "19306       0          1       1      0        0       0     0      0   \n",
              "19307       0          1       1      1        1       0     0      0   \n",
              "19308       0          0       0      0        0       0     0      0   \n",
              "19309       1          1       1      1        1       0     0      0   \n",
              "19310       0          0       0      1        0       0     0      0   \n",
              "\n",
              "       Romance  School  Sci-Fi  Shounen  Slice of Life  Supernatural  \\\n",
              "0            0       1       0        1              0             0   \n",
              "1            1       1       0        1              0             0   \n",
              "2            0       0       1        0              0             0   \n",
              "3            0       0       0        1              0             0   \n",
              "4            0       0       0        0              0             1   \n",
              "...        ...     ...     ...      ...            ...           ...   \n",
              "19306        0       0       1        0              0             0   \n",
              "19307        1       0       0        0              0             0   \n",
              "19308        0       0       0        0              0             1   \n",
              "19309        1       0       0        1              0             1   \n",
              "19310        0       0       1        0              0             0   \n",
              "\n",
              "                                                synopsis  \n",
              "0      Following their participation at the Inter-Hig...  \n",
              "1      Music accompanies the path of the human metron...  \n",
              "2      The Abyss—a gaping chasm stretching down into ...  \n",
              "3      \"In order for something to be obtained, someth...  \n",
              "4      After helping revive the legendary vampire Kis...  \n",
              "...                                                  ...  \n",
              "19306  Cocona is an average middle schooler living wi...  \n",
              "19307  While visiting the National Library, junior-hi...  \n",
              "19308  Years ago, all of the ghosts in a haunted scho...  \n",
              "19309  Inuyasha and company have finally destroyed Na...  \n",
              "19310  The year is Universal Century 0093. Char Aznab...  \n",
              "\n",
              "[19311 rows x 15 columns]"
            ]
          },
          "execution_count": 23,
          "metadata": {},
          "output_type": "execute_result"
        }
      ],
      "source": [
        "animes"
      ]
    },
    {
      "cell_type": "code",
      "execution_count": 24,
      "metadata": {
        "colab": {
          "base_uri": "https://localhost:8080/"
        },
        "id": "mjbvl1RG11FQ",
        "outputId": "4db75e35-51e5-436b-9c22-b9635af20f29"
      },
      "outputs": [
        {
          "name": "stdout",
          "output_type": "stream",
          "text": [
            "<class 'pandas.core.frame.DataFrame'>\n",
            "Index: 18336 entries, 0 to 19310\n",
            "Data columns (total 15 columns):\n",
            " #   Column         Non-Null Count  Dtype \n",
            "---  ------         --------------  ----- \n",
            " 0   Action         18336 non-null  int32 \n",
            " 1   Adventure      18336 non-null  int32 \n",
            " 2   Comedy         18336 non-null  int32 \n",
            " 3   Drama          18336 non-null  int32 \n",
            " 4   Fantasy        18336 non-null  int32 \n",
            " 5   Hentai         18336 non-null  int32 \n",
            " 6   Kids           18336 non-null  int32 \n",
            " 7   Music          18336 non-null  int32 \n",
            " 8   Romance        18336 non-null  int32 \n",
            " 9   School         18336 non-null  int32 \n",
            " 10  Sci-Fi         18336 non-null  int32 \n",
            " 11  Shounen        18336 non-null  int32 \n",
            " 12  Slice of Life  18336 non-null  int32 \n",
            " 13  Supernatural   18336 non-null  int32 \n",
            " 14  synopsis       18336 non-null  object\n",
            "dtypes: int32(14), object(1)\n",
            "memory usage: 1.3+ MB\n"
          ]
        }
      ],
      "source": [
        "animes = animes.dropna()\n",
        "animes.info()"
      ]
    },
    {
      "cell_type": "code",
      "execution_count": 25,
      "metadata": {
        "colab": {
          "base_uri": "https://localhost:8080/"
        },
        "id": "5XQWj1cl11FR",
        "outputId": "ecdca1fe-367e-4e5f-bbd4-45b78d1815f0"
      },
      "outputs": [
        {
          "name": "stderr",
          "output_type": "stream",
          "text": [
            "c:\\Users\\HP\\AppData\\Local\\Programs\\Python\\Python311\\Lib\\site-packages\\sklearn\\feature_extraction\\text.py:528: UserWarning: The parameter 'token_pattern' will not be used since 'tokenizer' is not None'\n",
            "  warnings.warn(\n"
          ]
        }
      ],
      "source": [
        "nlp = spacy.load('en_core_web_sm')\n",
        "\n",
        "unwanted_pipes= ['ner','parser']\n",
        "def tokanization(doc):\n",
        "\n",
        "    with nlp.disable_pipes(*unwanted_pipes):\n",
        "        return [t.lemma_ for t in nlp(doc) if  t.is_alpha and not t.is_punct and not t.is_space]\n",
        "\n",
        "\n",
        "\n",
        "from sklearn.feature_extraction.text import TfidfVectorizer\n",
        "\n",
        "vectorizer = TfidfVectorizer(tokenizer=tokanization , ngram_range=(1,2))\n",
        "features = vectorizer.fit_transform(animes['synopsis'])"
      ]
    },
    {
      "cell_type": "code",
      "execution_count": 26,
      "metadata": {
        "id": "w0RRx0KD11FR"
      },
      "outputs": [],
      "source": [
        "X = features\n",
        "y = animes.drop(['synopsis'], axis= 1).values"
      ]
    },
    {
      "cell_type": "markdown",
      "metadata": {},
      "source": [
        "### Choosing  the model"
      ]
    },
    {
      "cell_type": "markdown",
      "metadata": {},
      "source": [
        "we will be evaluating the models based on their hamming loss and Jackard score rather than their accuracy since they serve more the perpose of classifying the shows.\n",
        "\n",
        "the precision-in this case of multi label classificatition- can be calculated as the average of all the accuracies calculated by each single classifier (as we will discover, that in this case, a model is a combination of multible classifiers that each one predics if the element belongs to a specific class)\n",
        "\n",
        "the precision in this case is not really usefull since a classifier can raise the score up while others are not really that good and we may not notice it. \n",
        "\n",
        "Hamming Loss measures the fraction of incorrectly predicted labels, which is suitable for multi-label classification tasks where instances can belong to multiple classes. Lower Hamming loss indicates better performance.\n",
        "\n",
        "Jaccard Score evaluates the similarity between predicted and true label sets by comparing their intersection to their union. Higher Jaccard score signifies better agreement between predicted and true labels."
      ]
    },
    {
      "cell_type": "code",
      "execution_count": 27,
      "metadata": {
        "id": "ajnnyAso11FS"
      },
      "outputs": [],
      "source": [
        "from sklearn.model_selection import train_test_split\n",
        "\n",
        "X_train, X_test , y_train, y_test = train_test_split(X, y , test_size = 0.2, random_state=42)\n"
      ]
    },
    {
      "cell_type": "code",
      "execution_count": 28,
      "metadata": {
        "id": "fnkH13nF11FT"
      },
      "outputs": [],
      "source": [
        "from sklearn.calibration import LinearSVC\n",
        "from sklearn.linear_model import LogisticRegression, SGDClassifier\n",
        "\n",
        "\n",
        "sgd = SGDClassifier()\n",
        "lr  = LogisticRegression(solver='lbfgs')\n",
        "svc = LinearSVC()"
      ]
    },
    {
      "cell_type": "code",
      "execution_count": 29,
      "metadata": {
        "id": "fWk9DncT11FU"
      },
      "outputs": [],
      "source": [
        "from sklearn.metrics import hamming_loss, jaccard_score\n",
        "\n",
        "def j_score(y_true, y_pred):\n",
        "    jacard = np.minimum(y_true, y_pred).sum(axis=1)/ np.maximum(y_true, y_pred).sum(axis=1)\n",
        "    return jacard\n",
        "\n",
        "def print_score(y_pred, clf):\n",
        "    print(\"clf : \", clf.__class__.__name__)\n",
        "    print(\"Jacard score : {}\".format(jaccard_score(y_test, y_pred, average='samples')))\n",
        "    print(\"Hamming Loss : {}\".format(hamming_loss(y_test,y_pred)))\n",
        "    print(\"--------_--------\")"
      ]
    },
    {
      "cell_type": "code",
      "execution_count": 30,
      "metadata": {
        "colab": {
          "base_uri": "https://localhost:8080/"
        },
        "id": "gjc25LaU11FV",
        "outputId": "d7b9266f-c276-43c2-c909-dfec4705b31b"
      },
      "outputs": [],
      "source": [
        "# from sklearn.multiclass import OneVsRestClassifier\n",
        "\n",
        "# for classifier in [sgd, lr, svc]:\n",
        "#     clf = OneVsRestClassifier(classifier)\n",
        "#     clf.fit(X_train, y_train)\n",
        "#     y_pred = clf.predict(X_test)\n",
        "#     print_score(y_pred, classifier)\n",
        "\n",
        "\n",
        "######################################### result \n",
        "\n",
        "# clf :  SGDClassifier\n",
        "# Jacard score : 0.38296593446538923\n",
        "# Hamming Loss : 0.10061925533572208\n",
        "\n",
        "\n",
        "# clf :  LogisticRegression\n",
        "# Jacard score : 0.22932310328711636\n",
        "# Hamming Loss : 0.12289686867113257\n",
        "\n",
        "\n",
        "# clf :  LinearSVC\n",
        "# Jacard score : 0.49213078361115437\n",
        "# Hamming Loss : 0.08410577971646674"
      ]
    },
    {
      "cell_type": "code",
      "execution_count": 31,
      "metadata": {
        "id": "o-_3TKO711FW"
      },
      "outputs": [],
      "source": [
        "doc = \"The story follows elven mage Frieren, a former member of the party of adventurers who defeated the Demon King and restored harmony to the world after a ten-year quest. In the past, the heroic group included Frieren, human hero Himmel, dwarven warrior Eisen, and human priest Heiter. Before they part, they observe the Era Meteors together, a meteor shower that occurs once in fifty years. Frieren agrees to see them again and offers them a better view the next time the celestial event occurs. Frieren then departs and travels the world in pursuit of magical knowledge.\""
      ]
    },
    {
      "cell_type": "code",
      "execution_count": 32,
      "metadata": {
        "id": "nFMgGqOR11FX"
      },
      "outputs": [],
      "source": [
        "vector = vectorizer.transform([doc])"
      ]
    },
    {
      "cell_type": "code",
      "execution_count": 33,
      "metadata": {
        "colab": {
          "base_uri": "https://localhost:8080/"
        },
        "id": "055vZD8211FX",
        "outputId": "1f9784f4-fa14-4ed6-864e-46e934a9403f"
      },
      "outputs": [
        {
          "data": {
            "text/plain": [
              "array([[0, 1, 0, 0, 1, 0, 0, 0, 0, 0, 0, 0, 0, 0]])"
            ]
          },
          "execution_count": 33,
          "metadata": {},
          "output_type": "execute_result"
        }
      ],
      "source": [
        "from sklearn.multiclass import OneVsRestClassifier\n",
        "\n",
        "clf = OneVsRestClassifier(svc)\n",
        "clf.fit(X_train, y_train)\n",
        "y_pred = clf.predict(X_test)\n",
        "clf.predict(vector)"
      ]
    },
    {
      "cell_type": "code",
      "execution_count": 34,
      "metadata": {
        "id": "7UvXKRvE11FY"
      },
      "outputs": [],
      "source": [
        "def show_labels_predicted(y_pred):\n",
        "  s = []\n",
        "  indexes = np.where(y_pred.reshape((-1,1)))[0]\n",
        "  [s.append(animes.columns[i]) for i in indexes]\n",
        "  return s\n"
      ]
    },
    {
      "cell_type": "code",
      "execution_count": 35,
      "metadata": {
        "colab": {
          "base_uri": "https://localhost:8080/"
        },
        "id": "LiidJ9_D11Fa",
        "outputId": "e25001da-b199-4e65-f63b-9cb242364cf4"
      },
      "outputs": [
        {
          "data": {
            "text/plain": [
              "['Adventure', 'Fantasy']"
            ]
          },
          "execution_count": 35,
          "metadata": {},
          "output_type": "execute_result"
        }
      ],
      "source": [
        "show_labels_predicted(clf.predict(vector))"
      ]
    },
    {
      "cell_type": "code",
      "execution_count": 37,
      "metadata": {
        "id": "ApreRuWT8w_C"
      },
      "outputs": [],
      "source": [
        "classifier2 = LinearSVC(C=1, loss='squared_hinge', max_iter=1000, tol=0.0001)\n",
        "# Train the model\n",
        "clf2 = OneVsRestClassifier(classifier2)\n",
        "clf2.fit(X_train, y_train)\n",
        "\n",
        "# Evaluate on the test set\n",
        "y_pred = clf2.predict(X_test)\n",
        "loss_ = hamming_loss(y_test, y_pred)"
      ]
    },
    {
      "cell_type": "code",
      "execution_count": 38,
      "metadata": {
        "colab": {
          "base_uri": "https://localhost:8080/"
        },
        "id": "hMNMV7YF74Lm",
        "outputId": "d06093a4-c403-4317-a7ff-fc4092302217"
      },
      "outputs": [
        {
          "data": {
            "text/plain": [
              "0.08410577971646674"
            ]
          },
          "execution_count": 38,
          "metadata": {},
          "output_type": "execute_result"
        }
      ],
      "source": [
        "loss_"
      ]
    },
    {
      "cell_type": "code",
      "execution_count": 39,
      "metadata": {
        "colab": {
          "base_uri": "https://localhost:8080/"
        },
        "id": "ZUAKRuDA8Eo6",
        "outputId": "add7082f-76ba-4f15-b944-ea7b82c01e30"
      },
      "outputs": [
        {
          "name": "stdout",
          "output_type": "stream",
          "text": [
            "Precision: 0.8898033836305441\n",
            "Recall: 0.5035580282054599\n",
            "F1-score: 0.6431463273568536\n",
            "Hamming Loss: 0.08410577971646674\n"
          ]
        }
      ],
      "source": [
        "from sklearn.metrics import precision_score, recall_score, f1_score, hamming_loss\n",
        "\n",
        "# Calculate precision, recall, and F1-score\n",
        "precision = precision_score(y_test, y_pred, average='micro')\n",
        "recall = recall_score(y_test, y_pred, average='micro')\n",
        "f1 = f1_score(y_test, y_pred, average='micro')\n",
        "hl = hamming_loss(y_test, y_pred)\n",
        "\n",
        "print(\"Precision:\", precision)\n",
        "print(\"Recall:\", recall)\n",
        "print(\"F1-score:\", f1)\n",
        "print(\"Hamming Loss:\", hl)"
      ]
    },
    {
      "cell_type": "code",
      "execution_count": null,
      "metadata": {
        "colab": {
          "base_uri": "https://localhost:8080/"
        },
        "id": "cenIQ2I49LqA",
        "outputId": "bad27858-feff-441a-cc9f-ec5a24ae3e72"
      },
      "outputs": [
        {
          "name": "stderr",
          "output_type": "stream",
          "text": [
            "/usr/local/lib/python3.10/dist-packages/sklearn/metrics/_classification.py:1344: UndefinedMetricWarning: Precision is ill-defined and being set to 0.0 due to no predicted samples. Use `zero_division` parameter to control this behavior.\n",
            "  _warn_prf(average, modifier, msg_start, len(result))\n",
            "/usr/local/lib/python3.10/dist-packages/sklearn/metrics/_classification.py:1344: UndefinedMetricWarning: Precision is ill-defined and being set to 0.0 due to no predicted samples. Use `zero_division` parameter to control this behavior.\n",
            "  _warn_prf(average, modifier, msg_start, len(result))\n",
            "/usr/local/lib/python3.10/dist-packages/sklearn/metrics/_classification.py:1344: UndefinedMetricWarning: Precision is ill-defined and being set to 0.0 due to no predicted samples. Use `zero_division` parameter to control this behavior.\n",
            "  _warn_prf(average, modifier, msg_start, len(result))\n",
            "/usr/local/lib/python3.10/dist-packages/sklearn/metrics/_classification.py:1344: UndefinedMetricWarning: Precision is ill-defined and being set to 0.0 due to no predicted samples. Use `zero_division` parameter to control this behavior.\n",
            "  _warn_prf(average, modifier, msg_start, len(result))\n",
            "/usr/local/lib/python3.10/dist-packages/sklearn/metrics/_classification.py:1344: UndefinedMetricWarning: Precision is ill-defined and being set to 0.0 due to no predicted samples. Use `zero_division` parameter to control this behavior.\n",
            "  _warn_prf(average, modifier, msg_start, len(result))\n",
            "/usr/local/lib/python3.10/dist-packages/sklearn/metrics/_classification.py:1344: UndefinedMetricWarning: Precision is ill-defined and being set to 0.0 due to no predicted samples. Use `zero_division` parameter to control this behavior.\n",
            "  _warn_prf(average, modifier, msg_start, len(result))\n",
            "/usr/local/lib/python3.10/dist-packages/sklearn/metrics/_classification.py:1344: UndefinedMetricWarning: Precision is ill-defined and being set to 0.0 due to no predicted samples. Use `zero_division` parameter to control this behavior.\n",
            "  _warn_prf(average, modifier, msg_start, len(result))\n",
            "/usr/local/lib/python3.10/dist-packages/sklearn/metrics/_classification.py:1344: UndefinedMetricWarning: Precision is ill-defined and being set to 0.0 due to no predicted samples. Use `zero_division` parameter to control this behavior.\n",
            "  _warn_prf(average, modifier, msg_start, len(result))\n",
            "/usr/local/lib/python3.10/dist-packages/sklearn/metrics/_classification.py:1344: UndefinedMetricWarning: Precision is ill-defined and being set to 0.0 due to no predicted samples. Use `zero_division` parameter to control this behavior.\n",
            "  _warn_prf(average, modifier, msg_start, len(result))\n",
            "/usr/local/lib/python3.10/dist-packages/sklearn/svm/_base.py:1244: ConvergenceWarning: Liblinear failed to converge, increase the number of iterations.\n",
            "  warnings.warn(\n",
            "/usr/local/lib/python3.10/dist-packages/sklearn/svm/_base.py:1244: ConvergenceWarning: Liblinear failed to converge, increase the number of iterations.\n",
            "  warnings.warn(\n",
            "/usr/local/lib/python3.10/dist-packages/sklearn/svm/_base.py:1244: ConvergenceWarning: Liblinear failed to converge, increase the number of iterations.\n",
            "  warnings.warn(\n",
            "/usr/local/lib/python3.10/dist-packages/sklearn/svm/_base.py:1244: ConvergenceWarning: Liblinear failed to converge, increase the number of iterations.\n",
            "  warnings.warn(\n",
            "/usr/local/lib/python3.10/dist-packages/sklearn/svm/_base.py:1244: ConvergenceWarning: Liblinear failed to converge, increase the number of iterations.\n",
            "  warnings.warn(\n",
            "/usr/local/lib/python3.10/dist-packages/sklearn/svm/_base.py:1244: ConvergenceWarning: Liblinear failed to converge, increase the number of iterations.\n",
            "  warnings.warn(\n",
            "/usr/local/lib/python3.10/dist-packages/sklearn/svm/_base.py:1244: ConvergenceWarning: Liblinear failed to converge, increase the number of iterations.\n",
            "  warnings.warn(\n",
            "/usr/local/lib/python3.10/dist-packages/sklearn/svm/_base.py:1244: ConvergenceWarning: Liblinear failed to converge, increase the number of iterations.\n",
            "  warnings.warn(\n",
            "/usr/local/lib/python3.10/dist-packages/sklearn/svm/_base.py:1244: ConvergenceWarning: Liblinear failed to converge, increase the number of iterations.\n",
            "  warnings.warn(\n",
            "/usr/local/lib/python3.10/dist-packages/sklearn/svm/_base.py:1244: ConvergenceWarning: Liblinear failed to converge, increase the number of iterations.\n",
            "  warnings.warn(\n",
            "/usr/local/lib/python3.10/dist-packages/sklearn/svm/_base.py:1244: ConvergenceWarning: Liblinear failed to converge, increase the number of iterations.\n",
            "  warnings.warn(\n",
            "/usr/local/lib/python3.10/dist-packages/sklearn/svm/_base.py:1244: ConvergenceWarning: Liblinear failed to converge, increase the number of iterations.\n",
            "  warnings.warn(\n",
            "/usr/local/lib/python3.10/dist-packages/sklearn/svm/_base.py:1244: ConvergenceWarning: Liblinear failed to converge, increase the number of iterations.\n",
            "  warnings.warn(\n",
            "/usr/local/lib/python3.10/dist-packages/sklearn/svm/_base.py:1244: ConvergenceWarning: Liblinear failed to converge, increase the number of iterations.\n",
            "  warnings.warn(\n",
            "/usr/local/lib/python3.10/dist-packages/sklearn/svm/_base.py:1244: ConvergenceWarning: Liblinear failed to converge, increase the number of iterations.\n",
            "  warnings.warn(\n",
            "/usr/local/lib/python3.10/dist-packages/sklearn/svm/_base.py:1244: ConvergenceWarning: Liblinear failed to converge, increase the number of iterations.\n",
            "  warnings.warn(\n",
            "/usr/local/lib/python3.10/dist-packages/sklearn/svm/_base.py:1244: ConvergenceWarning: Liblinear failed to converge, increase the number of iterations.\n",
            "  warnings.warn(\n",
            "/usr/local/lib/python3.10/dist-packages/sklearn/svm/_base.py:1244: ConvergenceWarning: Liblinear failed to converge, increase the number of iterations.\n",
            "  warnings.warn(\n",
            "/usr/local/lib/python3.10/dist-packages/sklearn/svm/_base.py:1244: ConvergenceWarning: Liblinear failed to converge, increase the number of iterations.\n",
            "  warnings.warn(\n",
            "/usr/local/lib/python3.10/dist-packages/sklearn/svm/_base.py:1244: ConvergenceWarning: Liblinear failed to converge, increase the number of iterations.\n",
            "  warnings.warn(\n",
            "/usr/local/lib/python3.10/dist-packages/sklearn/svm/_base.py:1244: ConvergenceWarning: Liblinear failed to converge, increase the number of iterations.\n",
            "  warnings.warn(\n",
            "/usr/local/lib/python3.10/dist-packages/sklearn/svm/_base.py:1244: ConvergenceWarning: Liblinear failed to converge, increase the number of iterations.\n",
            "  warnings.warn(\n",
            "/usr/local/lib/python3.10/dist-packages/sklearn/svm/_base.py:1244: ConvergenceWarning: Liblinear failed to converge, increase the number of iterations.\n",
            "  warnings.warn(\n",
            "/usr/local/lib/python3.10/dist-packages/sklearn/svm/_base.py:1244: ConvergenceWarning: Liblinear failed to converge, increase the number of iterations.\n",
            "  warnings.warn(\n",
            "/usr/local/lib/python3.10/dist-packages/sklearn/svm/_base.py:1244: ConvergenceWarning: Liblinear failed to converge, increase the number of iterations.\n",
            "  warnings.warn(\n",
            "/usr/local/lib/python3.10/dist-packages/sklearn/svm/_base.py:1244: ConvergenceWarning: Liblinear failed to converge, increase the number of iterations.\n",
            "  warnings.warn(\n",
            "/usr/local/lib/python3.10/dist-packages/sklearn/svm/_base.py:1244: ConvergenceWarning: Liblinear failed to converge, increase the number of iterations.\n",
            "  warnings.warn(\n",
            "/usr/local/lib/python3.10/dist-packages/sklearn/svm/_base.py:1244: ConvergenceWarning: Liblinear failed to converge, increase the number of iterations.\n",
            "  warnings.warn(\n",
            "/usr/local/lib/python3.10/dist-packages/sklearn/svm/_base.py:1244: ConvergenceWarning: Liblinear failed to converge, increase the number of iterations.\n",
            "  warnings.warn(\n",
            "/usr/local/lib/python3.10/dist-packages/sklearn/svm/_base.py:1244: ConvergenceWarning: Liblinear failed to converge, increase the number of iterations.\n",
            "  warnings.warn(\n",
            "/usr/local/lib/python3.10/dist-packages/sklearn/svm/_base.py:1244: ConvergenceWarning: Liblinear failed to converge, increase the number of iterations.\n",
            "  warnings.warn(\n",
            "/usr/local/lib/python3.10/dist-packages/sklearn/svm/_base.py:1244: ConvergenceWarning: Liblinear failed to converge, increase the number of iterations.\n",
            "  warnings.warn(\n",
            "/usr/local/lib/python3.10/dist-packages/sklearn/svm/_base.py:1244: ConvergenceWarning: Liblinear failed to converge, increase the number of iterations.\n",
            "  warnings.warn(\n",
            "/usr/local/lib/python3.10/dist-packages/sklearn/svm/_base.py:1244: ConvergenceWarning: Liblinear failed to converge, increase the number of iterations.\n",
            "  warnings.warn(\n",
            "/usr/local/lib/python3.10/dist-packages/sklearn/svm/_base.py:1244: ConvergenceWarning: Liblinear failed to converge, increase the number of iterations.\n",
            "  warnings.warn(\n",
            "/usr/local/lib/python3.10/dist-packages/sklearn/svm/_base.py:1244: ConvergenceWarning: Liblinear failed to converge, increase the number of iterations.\n",
            "  warnings.warn(\n",
            "/usr/local/lib/python3.10/dist-packages/sklearn/svm/_base.py:1244: ConvergenceWarning: Liblinear failed to converge, increase the number of iterations.\n",
            "  warnings.warn(\n",
            "/usr/local/lib/python3.10/dist-packages/sklearn/svm/_base.py:1244: ConvergenceWarning: Liblinear failed to converge, increase the number of iterations.\n",
            "  warnings.warn(\n",
            "/usr/local/lib/python3.10/dist-packages/sklearn/svm/_base.py:1244: ConvergenceWarning: Liblinear failed to converge, increase the number of iterations.\n",
            "  warnings.warn(\n",
            "/usr/local/lib/python3.10/dist-packages/sklearn/svm/_base.py:1244: ConvergenceWarning: Liblinear failed to converge, increase the number of iterations.\n",
            "  warnings.warn(\n",
            "/usr/local/lib/python3.10/dist-packages/sklearn/svm/_base.py:1244: ConvergenceWarning: Liblinear failed to converge, increase the number of iterations.\n",
            "  warnings.warn(\n",
            "/usr/local/lib/python3.10/dist-packages/sklearn/svm/_base.py:1244: ConvergenceWarning: Liblinear failed to converge, increase the number of iterations.\n",
            "  warnings.warn(\n",
            "/usr/local/lib/python3.10/dist-packages/sklearn/svm/_base.py:1244: ConvergenceWarning: Liblinear failed to converge, increase the number of iterations.\n",
            "  warnings.warn(\n",
            "/usr/local/lib/python3.10/dist-packages/sklearn/svm/_base.py:1244: ConvergenceWarning: Liblinear failed to converge, increase the number of iterations.\n",
            "  warnings.warn(\n",
            "/usr/local/lib/python3.10/dist-packages/sklearn/svm/_base.py:1244: ConvergenceWarning: Liblinear failed to converge, increase the number of iterations.\n",
            "  warnings.warn(\n",
            "/usr/local/lib/python3.10/dist-packages/sklearn/svm/_base.py:1244: ConvergenceWarning: Liblinear failed to converge, increase the number of iterations.\n",
            "  warnings.warn(\n",
            "/usr/local/lib/python3.10/dist-packages/sklearn/svm/_base.py:1244: ConvergenceWarning: Liblinear failed to converge, increase the number of iterations.\n",
            "  warnings.warn(\n",
            "/usr/local/lib/python3.10/dist-packages/sklearn/svm/_base.py:1244: ConvergenceWarning: Liblinear failed to converge, increase the number of iterations.\n",
            "  warnings.warn(\n",
            "/usr/local/lib/python3.10/dist-packages/sklearn/svm/_base.py:1244: ConvergenceWarning: Liblinear failed to converge, increase the number of iterations.\n",
            "  warnings.warn(\n",
            "/usr/local/lib/python3.10/dist-packages/sklearn/svm/_base.py:1244: ConvergenceWarning: Liblinear failed to converge, increase the number of iterations.\n",
            "  warnings.warn(\n",
            "/usr/local/lib/python3.10/dist-packages/sklearn/svm/_base.py:1244: ConvergenceWarning: Liblinear failed to converge, increase the number of iterations.\n",
            "  warnings.warn(\n",
            "/usr/local/lib/python3.10/dist-packages/sklearn/svm/_base.py:1244: ConvergenceWarning: Liblinear failed to converge, increase the number of iterations.\n",
            "  warnings.warn(\n",
            "/usr/local/lib/python3.10/dist-packages/sklearn/svm/_base.py:1244: ConvergenceWarning: Liblinear failed to converge, increase the number of iterations.\n",
            "  warnings.warn(\n",
            "/usr/local/lib/python3.10/dist-packages/sklearn/svm/_base.py:1244: ConvergenceWarning: Liblinear failed to converge, increase the number of iterations.\n",
            "  warnings.warn(\n",
            "/usr/local/lib/python3.10/dist-packages/sklearn/svm/_base.py:1244: ConvergenceWarning: Liblinear failed to converge, increase the number of iterations.\n",
            "  warnings.warn(\n",
            "/usr/local/lib/python3.10/dist-packages/sklearn/svm/_base.py:1244: ConvergenceWarning: Liblinear failed to converge, increase the number of iterations.\n",
            "  warnings.warn(\n",
            "/usr/local/lib/python3.10/dist-packages/sklearn/svm/_base.py:1244: ConvergenceWarning: Liblinear failed to converge, increase the number of iterations.\n",
            "  warnings.warn(\n",
            "/usr/local/lib/python3.10/dist-packages/sklearn/svm/_base.py:1244: ConvergenceWarning: Liblinear failed to converge, increase the number of iterations.\n",
            "  warnings.warn(\n",
            "/usr/local/lib/python3.10/dist-packages/sklearn/svm/_base.py:1244: ConvergenceWarning: Liblinear failed to converge, increase the number of iterations.\n",
            "  warnings.warn(\n",
            "/usr/local/lib/python3.10/dist-packages/sklearn/svm/_base.py:1244: ConvergenceWarning: Liblinear failed to converge, increase the number of iterations.\n",
            "  warnings.warn(\n",
            "/usr/local/lib/python3.10/dist-packages/sklearn/svm/_base.py:1244: ConvergenceWarning: Liblinear failed to converge, increase the number of iterations.\n",
            "  warnings.warn(\n",
            "/usr/local/lib/python3.10/dist-packages/sklearn/svm/_base.py:1244: ConvergenceWarning: Liblinear failed to converge, increase the number of iterations.\n",
            "  warnings.warn(\n",
            "/usr/local/lib/python3.10/dist-packages/sklearn/svm/_base.py:1244: ConvergenceWarning: Liblinear failed to converge, increase the number of iterations.\n",
            "  warnings.warn(\n",
            "/usr/local/lib/python3.10/dist-packages/sklearn/svm/_base.py:1244: ConvergenceWarning: Liblinear failed to converge, increase the number of iterations.\n",
            "  warnings.warn(\n",
            "/usr/local/lib/python3.10/dist-packages/sklearn/svm/_base.py:1244: ConvergenceWarning: Liblinear failed to converge, increase the number of iterations.\n",
            "  warnings.warn(\n",
            "/usr/local/lib/python3.10/dist-packages/sklearn/svm/_base.py:1244: ConvergenceWarning: Liblinear failed to converge, increase the number of iterations.\n",
            "  warnings.warn(\n",
            "/usr/local/lib/python3.10/dist-packages/sklearn/svm/_base.py:1244: ConvergenceWarning: Liblinear failed to converge, increase the number of iterations.\n",
            "  warnings.warn(\n",
            "/usr/local/lib/python3.10/dist-packages/sklearn/svm/_base.py:1244: ConvergenceWarning: Liblinear failed to converge, increase the number of iterations.\n",
            "  warnings.warn(\n",
            "/usr/local/lib/python3.10/dist-packages/sklearn/svm/_base.py:1244: ConvergenceWarning: Liblinear failed to converge, increase the number of iterations.\n",
            "  warnings.warn(\n",
            "/usr/local/lib/python3.10/dist-packages/sklearn/svm/_base.py:1244: ConvergenceWarning: Liblinear failed to converge, increase the number of iterations.\n",
            "  warnings.warn(\n",
            "/usr/local/lib/python3.10/dist-packages/sklearn/svm/_base.py:1244: ConvergenceWarning: Liblinear failed to converge, increase the number of iterations.\n",
            "  warnings.warn(\n",
            "/usr/local/lib/python3.10/dist-packages/sklearn/svm/_base.py:1244: ConvergenceWarning: Liblinear failed to converge, increase the number of iterations.\n",
            "  warnings.warn(\n",
            "/usr/local/lib/python3.10/dist-packages/sklearn/svm/_base.py:1244: ConvergenceWarning: Liblinear failed to converge, increase the number of iterations.\n",
            "  warnings.warn(\n",
            "/usr/local/lib/python3.10/dist-packages/sklearn/svm/_base.py:1244: ConvergenceWarning: Liblinear failed to converge, increase the number of iterations.\n",
            "  warnings.warn(\n",
            "/usr/local/lib/python3.10/dist-packages/sklearn/svm/_base.py:1244: ConvergenceWarning: Liblinear failed to converge, increase the number of iterations.\n",
            "  warnings.warn(\n",
            "/usr/local/lib/python3.10/dist-packages/sklearn/svm/_base.py:1244: ConvergenceWarning: Liblinear failed to converge, increase the number of iterations.\n",
            "  warnings.warn(\n",
            "/usr/local/lib/python3.10/dist-packages/sklearn/svm/_base.py:1244: ConvergenceWarning: Liblinear failed to converge, increase the number of iterations.\n",
            "  warnings.warn(\n",
            "/usr/local/lib/python3.10/dist-packages/sklearn/svm/_base.py:1244: ConvergenceWarning: Liblinear failed to converge, increase the number of iterations.\n",
            "  warnings.warn(\n",
            "/usr/local/lib/python3.10/dist-packages/sklearn/svm/_base.py:1244: ConvergenceWarning: Liblinear failed to converge, increase the number of iterations.\n",
            "  warnings.warn(\n",
            "/usr/local/lib/python3.10/dist-packages/sklearn/svm/_base.py:1244: ConvergenceWarning: Liblinear failed to converge, increase the number of iterations.\n",
            "  warnings.warn(\n",
            "/usr/local/lib/python3.10/dist-packages/sklearn/svm/_base.py:1244: ConvergenceWarning: Liblinear failed to converge, increase the number of iterations.\n",
            "  warnings.warn(\n",
            "/usr/local/lib/python3.10/dist-packages/sklearn/svm/_base.py:1244: ConvergenceWarning: Liblinear failed to converge, increase the number of iterations.\n",
            "  warnings.warn(\n",
            "/usr/local/lib/python3.10/dist-packages/sklearn/svm/_base.py:1244: ConvergenceWarning: Liblinear failed to converge, increase the number of iterations.\n",
            "  warnings.warn(\n",
            "/usr/local/lib/python3.10/dist-packages/sklearn/svm/_base.py:1244: ConvergenceWarning: Liblinear failed to converge, increase the number of iterations.\n",
            "  warnings.warn(\n",
            "/usr/local/lib/python3.10/dist-packages/sklearn/svm/_base.py:1244: ConvergenceWarning: Liblinear failed to converge, increase the number of iterations.\n",
            "  warnings.warn(\n",
            "/usr/local/lib/python3.10/dist-packages/sklearn/svm/_base.py:1244: ConvergenceWarning: Liblinear failed to converge, increase the number of iterations.\n",
            "  warnings.warn(\n",
            "/usr/local/lib/python3.10/dist-packages/sklearn/svm/_base.py:1244: ConvergenceWarning: Liblinear failed to converge, increase the number of iterations.\n",
            "  warnings.warn(\n",
            "/usr/local/lib/python3.10/dist-packages/sklearn/svm/_base.py:1244: ConvergenceWarning: Liblinear failed to converge, increase the number of iterations.\n",
            "  warnings.warn(\n",
            "/usr/local/lib/python3.10/dist-packages/sklearn/svm/_base.py:1244: ConvergenceWarning: Liblinear failed to converge, increase the number of iterations.\n",
            "  warnings.warn(\n",
            "/usr/local/lib/python3.10/dist-packages/sklearn/svm/_base.py:1244: ConvergenceWarning: Liblinear failed to converge, increase the number of iterations.\n",
            "  warnings.warn(\n",
            "/usr/local/lib/python3.10/dist-packages/sklearn/svm/_base.py:1244: ConvergenceWarning: Liblinear failed to converge, increase the number of iterations.\n",
            "  warnings.warn(\n",
            "/usr/local/lib/python3.10/dist-packages/sklearn/svm/_base.py:1244: ConvergenceWarning: Liblinear failed to converge, increase the number of iterations.\n",
            "  warnings.warn(\n",
            "/usr/local/lib/python3.10/dist-packages/sklearn/svm/_base.py:1244: ConvergenceWarning: Liblinear failed to converge, increase the number of iterations.\n",
            "  warnings.warn(\n",
            "/usr/local/lib/python3.10/dist-packages/sklearn/svm/_base.py:1244: ConvergenceWarning: Liblinear failed to converge, increase the number of iterations.\n",
            "  warnings.warn(\n",
            "/usr/local/lib/python3.10/dist-packages/sklearn/svm/_base.py:1244: ConvergenceWarning: Liblinear failed to converge, increase the number of iterations.\n",
            "  warnings.warn(\n",
            "/usr/local/lib/python3.10/dist-packages/sklearn/svm/_base.py:1244: ConvergenceWarning: Liblinear failed to converge, increase the number of iterations.\n",
            "  warnings.warn(\n",
            "/usr/local/lib/python3.10/dist-packages/sklearn/svm/_base.py:1244: ConvergenceWarning: Liblinear failed to converge, increase the number of iterations.\n",
            "  warnings.warn(\n",
            "/usr/local/lib/python3.10/dist-packages/sklearn/svm/_base.py:1244: ConvergenceWarning: Liblinear failed to converge, increase the number of iterations.\n",
            "  warnings.warn(\n",
            "/usr/local/lib/python3.10/dist-packages/sklearn/svm/_base.py:1244: ConvergenceWarning: Liblinear failed to converge, increase the number of iterations.\n",
            "  warnings.warn(\n",
            "/usr/local/lib/python3.10/dist-packages/sklearn/svm/_base.py:1244: ConvergenceWarning: Liblinear failed to converge, increase the number of iterations.\n",
            "  warnings.warn(\n",
            "/usr/local/lib/python3.10/dist-packages/sklearn/svm/_base.py:1244: ConvergenceWarning: Liblinear failed to converge, increase the number of iterations.\n",
            "  warnings.warn(\n",
            "/usr/local/lib/python3.10/dist-packages/sklearn/svm/_base.py:1244: ConvergenceWarning: Liblinear failed to converge, increase the number of iterations.\n",
            "  warnings.warn(\n",
            "/usr/local/lib/python3.10/dist-packages/sklearn/svm/_base.py:1244: ConvergenceWarning: Liblinear failed to converge, increase the number of iterations.\n",
            "  warnings.warn(\n",
            "/usr/local/lib/python3.10/dist-packages/sklearn/svm/_base.py:1244: ConvergenceWarning: Liblinear failed to converge, increase the number of iterations.\n",
            "  warnings.warn(\n",
            "/usr/local/lib/python3.10/dist-packages/sklearn/svm/_base.py:1244: ConvergenceWarning: Liblinear failed to converge, increase the number of iterations.\n",
            "  warnings.warn(\n",
            "/usr/local/lib/python3.10/dist-packages/sklearn/svm/_base.py:1244: ConvergenceWarning: Liblinear failed to converge, increase the number of iterations.\n",
            "  warnings.warn(\n",
            "/usr/local/lib/python3.10/dist-packages/sklearn/svm/_base.py:1244: ConvergenceWarning: Liblinear failed to converge, increase the number of iterations.\n",
            "  warnings.warn(\n",
            "/usr/local/lib/python3.10/dist-packages/sklearn/svm/_base.py:1244: ConvergenceWarning: Liblinear failed to converge, increase the number of iterations.\n",
            "  warnings.warn(\n",
            "/usr/local/lib/python3.10/dist-packages/sklearn/svm/_base.py:1244: ConvergenceWarning: Liblinear failed to converge, increase the number of iterations.\n",
            "  warnings.warn(\n",
            "/usr/local/lib/python3.10/dist-packages/sklearn/svm/_base.py:1244: ConvergenceWarning: Liblinear failed to converge, increase the number of iterations.\n",
            "  warnings.warn(\n",
            "/usr/local/lib/python3.10/dist-packages/sklearn/svm/_base.py:1244: ConvergenceWarning: Liblinear failed to converge, increase the number of iterations.\n",
            "  warnings.warn(\n",
            "/usr/local/lib/python3.10/dist-packages/sklearn/svm/_base.py:1244: ConvergenceWarning: Liblinear failed to converge, increase the number of iterations.\n",
            "  warnings.warn(\n",
            "/usr/local/lib/python3.10/dist-packages/sklearn/svm/_base.py:1244: ConvergenceWarning: Liblinear failed to converge, increase the number of iterations.\n",
            "  warnings.warn(\n",
            "/usr/local/lib/python3.10/dist-packages/sklearn/svm/_base.py:1244: ConvergenceWarning: Liblinear failed to converge, increase the number of iterations.\n",
            "  warnings.warn(\n",
            "/usr/local/lib/python3.10/dist-packages/sklearn/svm/_base.py:1244: ConvergenceWarning: Liblinear failed to converge, increase the number of iterations.\n",
            "  warnings.warn(\n",
            "/usr/local/lib/python3.10/dist-packages/sklearn/svm/_base.py:1244: ConvergenceWarning: Liblinear failed to converge, increase the number of iterations.\n",
            "  warnings.warn(\n",
            "/usr/local/lib/python3.10/dist-packages/sklearn/svm/_base.py:1244: ConvergenceWarning: Liblinear failed to converge, increase the number of iterations.\n",
            "  warnings.warn(\n",
            "/usr/local/lib/python3.10/dist-packages/sklearn/svm/_base.py:1244: ConvergenceWarning: Liblinear failed to converge, increase the number of iterations.\n",
            "  warnings.warn(\n",
            "/usr/local/lib/python3.10/dist-packages/sklearn/svm/_base.py:1244: ConvergenceWarning: Liblinear failed to converge, increase the number of iterations.\n",
            "  warnings.warn(\n",
            "/usr/local/lib/python3.10/dist-packages/sklearn/svm/_base.py:1244: ConvergenceWarning: Liblinear failed to converge, increase the number of iterations.\n",
            "  warnings.warn(\n",
            "/usr/local/lib/python3.10/dist-packages/sklearn/svm/_base.py:1244: ConvergenceWarning: Liblinear failed to converge, increase the number of iterations.\n",
            "  warnings.warn(\n",
            "/usr/local/lib/python3.10/dist-packages/sklearn/svm/_base.py:1244: ConvergenceWarning: Liblinear failed to converge, increase the number of iterations.\n",
            "  warnings.warn(\n",
            "/usr/local/lib/python3.10/dist-packages/sklearn/svm/_base.py:1244: ConvergenceWarning: Liblinear failed to converge, increase the number of iterations.\n",
            "  warnings.warn(\n",
            "/usr/local/lib/python3.10/dist-packages/sklearn/svm/_base.py:1244: ConvergenceWarning: Liblinear failed to converge, increase the number of iterations.\n",
            "  warnings.warn(\n",
            "/usr/local/lib/python3.10/dist-packages/sklearn/svm/_base.py:1244: ConvergenceWarning: Liblinear failed to converge, increase the number of iterations.\n",
            "  warnings.warn(\n",
            "/usr/local/lib/python3.10/dist-packages/sklearn/svm/_base.py:1244: ConvergenceWarning: Liblinear failed to converge, increase the number of iterations.\n",
            "  warnings.warn(\n",
            "/usr/local/lib/python3.10/dist-packages/sklearn/svm/_base.py:1244: ConvergenceWarning: Liblinear failed to converge, increase the number of iterations.\n",
            "  warnings.warn(\n",
            "/usr/local/lib/python3.10/dist-packages/sklearn/svm/_base.py:1244: ConvergenceWarning: Liblinear failed to converge, increase the number of iterations.\n",
            "  warnings.warn(\n",
            "/usr/local/lib/python3.10/dist-packages/sklearn/svm/_base.py:1244: ConvergenceWarning: Liblinear failed to converge, increase the number of iterations.\n",
            "  warnings.warn(\n",
            "/usr/local/lib/python3.10/dist-packages/sklearn/svm/_base.py:1244: ConvergenceWarning: Liblinear failed to converge, increase the number of iterations.\n",
            "  warnings.warn(\n",
            "/usr/local/lib/python3.10/dist-packages/sklearn/svm/_base.py:1244: ConvergenceWarning: Liblinear failed to converge, increase the number of iterations.\n",
            "  warnings.warn(\n",
            "/usr/local/lib/python3.10/dist-packages/sklearn/svm/_base.py:1244: ConvergenceWarning: Liblinear failed to converge, increase the number of iterations.\n",
            "  warnings.warn(\n",
            "/usr/local/lib/python3.10/dist-packages/sklearn/svm/_base.py:1244: ConvergenceWarning: Liblinear failed to converge, increase the number of iterations.\n",
            "  warnings.warn(\n",
            "/usr/local/lib/python3.10/dist-packages/sklearn/svm/_base.py:1244: ConvergenceWarning: Liblinear failed to converge, increase the number of iterations.\n",
            "  warnings.warn(\n",
            "/usr/local/lib/python3.10/dist-packages/sklearn/svm/_base.py:1244: ConvergenceWarning: Liblinear failed to converge, increase the number of iterations.\n",
            "  warnings.warn(\n",
            "/usr/local/lib/python3.10/dist-packages/sklearn/svm/_base.py:1244: ConvergenceWarning: Liblinear failed to converge, increase the number of iterations.\n",
            "  warnings.warn(\n",
            "/usr/local/lib/python3.10/dist-packages/sklearn/svm/_base.py:1244: ConvergenceWarning: Liblinear failed to converge, increase the number of iterations.\n",
            "  warnings.warn(\n",
            "/usr/local/lib/python3.10/dist-packages/sklearn/svm/_base.py:1244: ConvergenceWarning: Liblinear failed to converge, increase the number of iterations.\n",
            "  warnings.warn(\n",
            "/usr/local/lib/python3.10/dist-packages/sklearn/svm/_base.py:1244: ConvergenceWarning: Liblinear failed to converge, increase the number of iterations.\n",
            "  warnings.warn(\n",
            "/usr/local/lib/python3.10/dist-packages/sklearn/svm/_base.py:1244: ConvergenceWarning: Liblinear failed to converge, increase the number of iterations.\n",
            "  warnings.warn(\n",
            "/usr/local/lib/python3.10/dist-packages/sklearn/svm/_base.py:1244: ConvergenceWarning: Liblinear failed to converge, increase the number of iterations.\n",
            "  warnings.warn(\n",
            "/usr/local/lib/python3.10/dist-packages/sklearn/svm/_base.py:1244: ConvergenceWarning: Liblinear failed to converge, increase the number of iterations.\n",
            "  warnings.warn(\n",
            "/usr/local/lib/python3.10/dist-packages/sklearn/svm/_base.py:1244: ConvergenceWarning: Liblinear failed to converge, increase the number of iterations.\n",
            "  warnings.warn(\n",
            "/usr/local/lib/python3.10/dist-packages/sklearn/svm/_base.py:1244: ConvergenceWarning: Liblinear failed to converge, increase the number of iterations.\n",
            "  warnings.warn(\n",
            "/usr/local/lib/python3.10/dist-packages/sklearn/svm/_base.py:1244: ConvergenceWarning: Liblinear failed to converge, increase the number of iterations.\n",
            "  warnings.warn(\n",
            "/usr/local/lib/python3.10/dist-packages/sklearn/svm/_base.py:1244: ConvergenceWarning: Liblinear failed to converge, increase the number of iterations.\n",
            "  warnings.warn(\n",
            "/usr/local/lib/python3.10/dist-packages/sklearn/svm/_base.py:1244: ConvergenceWarning: Liblinear failed to converge, increase the number of iterations.\n",
            "  warnings.warn(\n",
            "/usr/local/lib/python3.10/dist-packages/sklearn/svm/_base.py:1244: ConvergenceWarning: Liblinear failed to converge, increase the number of iterations.\n",
            "  warnings.warn(\n",
            "/usr/local/lib/python3.10/dist-packages/sklearn/svm/_base.py:1244: ConvergenceWarning: Liblinear failed to converge, increase the number of iterations.\n",
            "  warnings.warn(\n",
            "/usr/local/lib/python3.10/dist-packages/sklearn/svm/_base.py:1244: ConvergenceWarning: Liblinear failed to converge, increase the number of iterations.\n",
            "  warnings.warn(\n",
            "/usr/local/lib/python3.10/dist-packages/sklearn/svm/_base.py:1244: ConvergenceWarning: Liblinear failed to converge, increase the number of iterations.\n",
            "  warnings.warn(\n",
            "/usr/local/lib/python3.10/dist-packages/sklearn/svm/_base.py:1244: ConvergenceWarning: Liblinear failed to converge, increase the number of iterations.\n",
            "  warnings.warn(\n",
            "/usr/local/lib/python3.10/dist-packages/sklearn/svm/_base.py:1244: ConvergenceWarning: Liblinear failed to converge, increase the number of iterations.\n",
            "  warnings.warn(\n"
          ]
        },
        {
          "name": "stdout",
          "output_type": "stream",
          "text": [
            "Best Accuracy: 0.9405405405405406\n",
            "Best Parameters: {'C': 0.1, 'loss': 'hinge', 'max_iter': 1000, 'tol': 0.0001}\n"
          ]
        }
      ],
      "source": [
        "# param_grid = {\n",
        "#     'C': [0.01, 0.1, 1, 10, 100],  # Regularization parameter\n",
        "#     'loss': ['hinge', 'squared_hinge'],  # Loss function\n",
        "#     'max_iter': [1000, 2000, 3000],  # Maximum number of iterations\n",
        "#     'tol': [1e-4, 1e-3, 1e-2]  # Tolerance for stopping criteria\n",
        "# }\n",
        "\n",
        "# best_accuracy = 0\n",
        "# best_params = None\n",
        "# for C in param_grid['C']:\n",
        "#     for loss in param_grid['loss']:\n",
        "#         for max_iter in param_grid['max_iter']:\n",
        "#             for tol in param_grid['tol']:\n",
        "\n",
        "#                 classifier = LinearSVC(C=C, loss=loss, max_iter=max_iter, tol=tol)\n",
        "\n",
        "#                 # Train the model\n",
        "#                 clf = OneVsRestClassifier(classifier)\n",
        "#                 clf.fit(X_train, y_train)\n",
        "\n",
        "#                 # Evaluate on the test set\n",
        "#                 y_pred = clf.predict(X_test)\n",
        "#                 accuracy = precision_score(y_test, y_pred, average='micro')\n",
        "\n",
        "#                 # Check if current combination is the best\n",
        "#                 if accuracy > best_accuracy:\n",
        "#                     best_accuracy = accuracy\n",
        "#                     best_params = {'C': C, 'loss': loss, 'max_iter': max_iter, 'tol': tol}\n",
        "\n",
        "# print(\"Best Accuracy:\", best_accuracy)\n",
        "# print(\"Best Parameters:\", best_params)\n",
        "\n",
        "# # Best Accuracy: 0.9405405405405406\n",
        "# # Best Parameters: {'C': 0.1, 'loss': 'hinge', 'max_iter': 1000, 'tol': 0.0001}"
      ]
    },
    {
      "cell_type": "code",
      "execution_count": 40,
      "metadata": {
        "id": "BBlwCRUvZ577"
      },
      "outputs": [],
      "source": [
        "vector = vectorizer.transform([doc])"
      ]
    },
    {
      "cell_type": "code",
      "execution_count": 44,
      "metadata": {
        "id": "n9kwTv9WZXy2"
      },
      "outputs": [
        {
          "name": "stdout",
          "output_type": "stream",
          "text": [
            "Precision: 0.9405405405405406\n",
            "Recall: 0.045025229654547805\n",
            "F1-score: 0.08593653537473762\n",
            "Hamming Loss: 0.14416186321856986\n"
          ]
        }
      ],
      "source": [
        "classifier3 = LinearSVC(C=0.1, loss='hinge', tol=0.0001)\n",
        "vector = vectorizer.transform([doc])\n",
        "clf3 = OneVsRestClassifier(classifier3)\n",
        "clf3.fit(X_train, y_train)\n",
        "y_pred = clf3.predict(X_test)\n",
        "\n",
        "precision = precision_score(y_test, y_pred, average='micro')\n",
        "recall = recall_score(y_test, y_pred, average='micro')\n",
        "f1 = f1_score(y_test, y_pred, average='micro')\n",
        "hl = hamming_loss(y_test, y_pred)\n",
        "\n",
        "print(\"Precision:\", precision)\n",
        "print(\"Recall:\", recall)\n",
        "print(\"F1-score:\", f1)\n",
        "print(\"Hamming Loss:\", hl)"
      ]
    },
    {
      "cell_type": "code",
      "execution_count": 45,
      "metadata": {
        "colab": {
          "base_uri": "https://localhost:8080/"
        },
        "id": "7i2oYWGkZm_z",
        "outputId": "d7cd69ae-5d2a-4416-b16f-ce41c6d960fc"
      },
      "outputs": [
        {
          "name": "stdout",
          "output_type": "stream",
          "text": [
            "Precision: 0.9399361022364218\n",
            "Recall: 0.04752059441124212\n",
            "F1-score: 0.09046740467404674\n",
            "Hamming Loss: 0.14403560715259653\n"
          ]
        }
      ],
      "source": [
        "\n",
        "y_train_pred = clf3.predict(X_train)\n",
        "precision = precision_score(y_train, y_train_pred, average='micro')\n",
        "recall = recall_score(y_train, y_train_pred, average='micro')\n",
        "f1 = f1_score(y_train, y_train_pred, average='micro')\n",
        "hl = hamming_loss(y_train, y_train_pred)\n",
        "\n",
        "print(\"Precision:\", precision)\n",
        "print(\"Recall:\", recall)\n",
        "print(\"F1-score:\", f1)\n",
        "print(\"Hamming Loss:\", hl)"
      ]
    },
    {
      "cell_type": "code",
      "execution_count": 46,
      "metadata": {},
      "outputs": [
        {
          "data": {
            "text/plain": [
              "array([[0, 0, 0, 0, 0, 0, 0, 0, 0, 0, 0, 0, 0, 0]])"
            ]
          },
          "execution_count": 46,
          "metadata": {},
          "output_type": "execute_result"
        }
      ],
      "source": [
        "clf3.predict(vector)"
      ]
    },
    {
      "cell_type": "code",
      "execution_count": 53,
      "metadata": {},
      "outputs": [
        {
          "data": {
            "text/plain": [
              "['Action']"
            ]
          },
          "execution_count": 53,
          "metadata": {},
          "output_type": "execute_result"
        }
      ],
      "source": [
        "syn = \"\"\"In Jujutsu Kaisen, all living beings emanate energy called Cursed Energy (呪力, Juryoku), which arises from negative emotions that naturally flow throughout the body. Ordinary people cannot control this flow in their bodies. As a result, they continually lose Cursed Energy, resulting in the birth of Curses (呪い, Noroi), a race of spiritual beings whose primary desire is to bring harm to humanity. These Curses are shown as gruesome monsters, onryō (vengeful spirit), yūrei (ghosts), and yōkai.\n",
        "\n",
        "Jujutsu Sorcerers (呪術師, Jujutsushi, lit. \"Cursed Technique Masters\" or \"Shamans\") are people who control the flow of Cursed Energy in their bodies, allowing them to use it as they please and also to reduce its release. High-ranking Sorcerers and Curses can refine this energy and use it to perform Cursed Techniques (呪術式, Jujutsushiki), which tend to be unique to the user or their family. An advanced form of Cursed Technique is Domain Expansion (領域展開, Ryōiki Tenkai), which the users build a pocket dimension of variable size. Inside the Domain, all of their attacks are guaranteed to hit and will grow in strength.\"\"\"\n",
        "\n",
        "vector = vectorizer.transform([syn])\n",
        "\n",
        "\n",
        "show_labels_predicted(clf.predict(vector))"
      ]
    },
    {
      "cell_type": "code",
      "execution_count": null,
      "metadata": {},
      "outputs": [],
      "source": [
        "# param_grid = {\n",
        "#     'C': [0.01, 0.1, 1, 10, 100],  # Regularization parameter\n",
        "#     'loss': ['hinge', 'squared_hinge'],  # Loss function\n",
        "#     'max_iter': [1000, 2000, 3000],  # Maximum number of iterations\n",
        "#     'tol': [1e-4, 1e-3, 1e-2]  # Tolerance for stopping criteria\n",
        "# }\n",
        "\n",
        "# best_f1_score = 0\n",
        "# best_params = None\n",
        "# for C in param_grid['C']:\n",
        "#     for loss in param_grid['loss']:\n",
        "#         for max_iter in param_grid['max_iter']:\n",
        "#             for tol in param_grid['tol']:\n",
        "\n",
        "#                 classifier = LinearSVC(C=C, loss=loss, max_iter=max_iter, tol=tol)\n",
        "\n",
        "#                 # Train the model\n",
        "#                 clf = OneVsRestClassifier(classifier)\n",
        "#                 clf.fit(X_train, y_train)\n",
        "\n",
        "#                 # Evaluate on the test set\n",
        "#                 y_pred = clf.predict(X_test)\n",
        "#                 f1 = f1_score(y_test, y_pred, average='micro')\n",
        "\n",
        "#                 # Check if current combination is the best\n",
        "#                 if f1 > best_f1_score:\n",
        "#                     best_f1_score = f1\n",
        "#                     best_params = {'C': C, 'loss': loss, 'max_iter': max_iter, 'tol': tol}\n",
        "\n",
        "# print(\"Best F1-score:\", best_f1_score)\n",
        "# print(\"Best Parameters:\", best_params)\n",
        "\n",
        "\n",
        "\n",
        "# 0.6631562401760452\n",
        "# Best Parameters: {'C': 10, 'loss': 'hinge', 'max_iter': 1000, 'tol': 0.01}"
      ]
    },
    {
      "cell_type": "code",
      "execution_count": 54,
      "metadata": {},
      "outputs": [
        {
          "name": "stdout",
          "output_type": "stream",
          "text": [
            "Precision: 0.8446446446446446\n",
            "Recall: 0.5458662181394747\n",
            "F1-score: 0.6631562401760452\n",
            "Hamming Loss: 0.08346315625486836\n"
          ]
        }
      ],
      "source": [
        "classifier4 = LinearSVC(C=10, loss='hinge', tol=0.01)\n",
        "vector = vectorizer.transform([doc])\n",
        "clf4 = OneVsRestClassifier(classifier4)\n",
        "clf4.fit(X_train, y_train)\n",
        "y_pred = clf4.predict(X_test)\n",
        "\n",
        "precision = precision_score(y_test, y_pred, average='micro')\n",
        "recall = recall_score(y_test, y_pred, average='micro')\n",
        "f1 = f1_score(y_test, y_pred, average='micro')\n",
        "hl = hamming_loss(y_test, y_pred)\n",
        "\n",
        "print(\"Precision:\", precision)\n",
        "print(\"Recall:\", recall)\n",
        "print(\"F1-score:\", f1)\n",
        "print(\"Hamming Loss:\", hl)"
      ]
    },
    {
      "cell_type": "code",
      "execution_count": 55,
      "metadata": {},
      "outputs": [
        {
          "data": {
            "text/plain": [
              "array([[0, 1, 0, 0, 1, 0, 0, 0, 0, 0, 0, 0, 0, 0]])"
            ]
          },
          "execution_count": 55,
          "metadata": {},
          "output_type": "execute_result"
        }
      ],
      "source": [
        "clf4.predict(vector)"
      ]
    },
    {
      "cell_type": "markdown",
      "metadata": {},
      "source": [
        "the best model was the one with highest f1-score and the lowest hamming loss"
      ]
    }
  ],
  "metadata": {
    "colab": {
      "provenance": []
    },
    "kernelspec": {
      "display_name": "Python 3",
      "language": "python",
      "name": "python3"
    },
    "language_info": {
      "codemirror_mode": {
        "name": "ipython",
        "version": 3
      },
      "file_extension": ".py",
      "mimetype": "text/x-python",
      "name": "python",
      "nbconvert_exporter": "python",
      "pygments_lexer": "ipython3",
      "version": "3.11.8"
    }
  },
  "nbformat": 4,
  "nbformat_minor": 0
}
